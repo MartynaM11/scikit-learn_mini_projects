{
 "cells": [
  {
   "cell_type": "code",
   "execution_count": 1,
   "id": "8643b5c9",
   "metadata": {},
   "outputs": [],
   "source": [
    "import numpy as np\n",
    "import pandas as pd\n",
    "import matplotlib.pyplot as plt\n",
    "import seaborn as sns"
   ]
  },
  {
   "cell_type": "code",
   "execution_count": 2,
   "id": "924b5ccd",
   "metadata": {},
   "outputs": [],
   "source": [
    "df = pd.read_csv(\"mobile_prices_2023.csv\")"
   ]
  },
  {
   "cell_type": "markdown",
   "id": "e4a524db",
   "metadata": {},
   "source": [
    "## Data Exploring"
   ]
  },
  {
   "cell_type": "code",
   "execution_count": 3,
   "id": "e2f9824f",
   "metadata": {},
   "outputs": [
    {
     "data": {
      "text/html": [
       "<div>\n",
       "<style scoped>\n",
       "    .dataframe tbody tr th:only-of-type {\n",
       "        vertical-align: middle;\n",
       "    }\n",
       "\n",
       "    .dataframe tbody tr th {\n",
       "        vertical-align: top;\n",
       "    }\n",
       "\n",
       "    .dataframe thead th {\n",
       "        text-align: right;\n",
       "    }\n",
       "</style>\n",
       "<table border=\"1\" class=\"dataframe\">\n",
       "  <thead>\n",
       "    <tr style=\"text-align: right;\">\n",
       "      <th></th>\n",
       "      <th>Phone Name</th>\n",
       "      <th>Rating ?/5</th>\n",
       "      <th>Number of Ratings</th>\n",
       "      <th>RAM</th>\n",
       "      <th>ROM/Storage</th>\n",
       "      <th>Back/Rare Camera</th>\n",
       "      <th>Front Camera</th>\n",
       "      <th>Battery</th>\n",
       "      <th>Processor</th>\n",
       "      <th>Price in INR</th>\n",
       "      <th>Date of Scraping</th>\n",
       "    </tr>\n",
       "  </thead>\n",
       "  <tbody>\n",
       "    <tr>\n",
       "      <th>0</th>\n",
       "      <td>POCO C50 (Royal Blue, 32 GB)</td>\n",
       "      <td>4.2</td>\n",
       "      <td>33,561</td>\n",
       "      <td>2 GB RAM</td>\n",
       "      <td>32 GB ROM</td>\n",
       "      <td>8MP Dual Camera</td>\n",
       "      <td>5MP Front Camera</td>\n",
       "      <td>5000 mAh</td>\n",
       "      <td>Mediatek Helio A22 Processor, Upto 2.0 GHz Pro...</td>\n",
       "      <td>₹5,649</td>\n",
       "      <td>2023-06-17</td>\n",
       "    </tr>\n",
       "    <tr>\n",
       "      <th>1</th>\n",
       "      <td>POCO M4 5G (Cool Blue, 64 GB)</td>\n",
       "      <td>4.2</td>\n",
       "      <td>77,128</td>\n",
       "      <td>4 GB RAM</td>\n",
       "      <td>64 GB ROM</td>\n",
       "      <td>50MP + 2MP</td>\n",
       "      <td>8MP Front Camera</td>\n",
       "      <td>5000 mAh</td>\n",
       "      <td>Mediatek Dimensity 700 Processor</td>\n",
       "      <td>₹11,999</td>\n",
       "      <td>2023-06-17</td>\n",
       "    </tr>\n",
       "    <tr>\n",
       "      <th>2</th>\n",
       "      <td>POCO C51 (Royal Blue, 64 GB)</td>\n",
       "      <td>4.3</td>\n",
       "      <td>15,175</td>\n",
       "      <td>4 GB RAM</td>\n",
       "      <td>64 GB ROM</td>\n",
       "      <td>8MP Dual Rear Camera</td>\n",
       "      <td>5MP Front Camera</td>\n",
       "      <td>5000 mAh</td>\n",
       "      <td>Helio G36 Processor</td>\n",
       "      <td>₹6,999</td>\n",
       "      <td>2023-06-17</td>\n",
       "    </tr>\n",
       "    <tr>\n",
       "      <th>3</th>\n",
       "      <td>POCO C55 (Cool Blue, 64 GB)</td>\n",
       "      <td>4.2</td>\n",
       "      <td>22,621</td>\n",
       "      <td>4 GB RAM</td>\n",
       "      <td>64 GB ROM</td>\n",
       "      <td>50MP Dual Rear Camera</td>\n",
       "      <td>5MP Front Camera</td>\n",
       "      <td>5000 mAh</td>\n",
       "      <td>Mediatek Helio G85 Processor</td>\n",
       "      <td>₹7,749</td>\n",
       "      <td>2023-06-17</td>\n",
       "    </tr>\n",
       "    <tr>\n",
       "      <th>4</th>\n",
       "      <td>POCO C51 (Power Black, 64 GB)</td>\n",
       "      <td>4.3</td>\n",
       "      <td>15,175</td>\n",
       "      <td>4 GB RAM</td>\n",
       "      <td>64 GB ROM</td>\n",
       "      <td>8MP Dual Rear Camera</td>\n",
       "      <td>5MP Front Camera</td>\n",
       "      <td>5000 mAh</td>\n",
       "      <td>Helio G36 Processor</td>\n",
       "      <td>₹6,999</td>\n",
       "      <td>2023-06-17</td>\n",
       "    </tr>\n",
       "    <tr>\n",
       "      <th>...</th>\n",
       "      <td>...</td>\n",
       "      <td>...</td>\n",
       "      <td>...</td>\n",
       "      <td>...</td>\n",
       "      <td>...</td>\n",
       "      <td>...</td>\n",
       "      <td>...</td>\n",
       "      <td>...</td>\n",
       "      <td>...</td>\n",
       "      <td>...</td>\n",
       "      <td>...</td>\n",
       "    </tr>\n",
       "    <tr>\n",
       "      <th>1831</th>\n",
       "      <td>Infinix Note 7 (Forest Green, 64 GB)</td>\n",
       "      <td>4.3</td>\n",
       "      <td>25,582</td>\n",
       "      <td>4 GB RAM</td>\n",
       "      <td>64 GB ROM</td>\n",
       "      <td>48MP + 2MP + 2MP + AI Lens Camera</td>\n",
       "      <td>16MP Front Camera</td>\n",
       "      <td>5000 mAh</td>\n",
       "      <td>MediaTek Helio G70 Processor</td>\n",
       "      <td>₹14,999</td>\n",
       "      <td>2023-06-17</td>\n",
       "    </tr>\n",
       "    <tr>\n",
       "      <th>1832</th>\n",
       "      <td>Infinix Note 7 (Bolivia Blue, 64 GB)</td>\n",
       "      <td>4.3</td>\n",
       "      <td>25,582</td>\n",
       "      <td>4 GB RAM</td>\n",
       "      <td>64 GB ROM</td>\n",
       "      <td>48MP + 2MP + 2MP + AI Lens Camera</td>\n",
       "      <td>16MP Front Camera</td>\n",
       "      <td>5000 mAh</td>\n",
       "      <td>MediaTek Helio G70 Processor</td>\n",
       "      <td>₹14,999</td>\n",
       "      <td>2023-06-17</td>\n",
       "    </tr>\n",
       "    <tr>\n",
       "      <th>1833</th>\n",
       "      <td>Infinix Note 7 (Aether Black, 64 GB)</td>\n",
       "      <td>4.3</td>\n",
       "      <td>25,582</td>\n",
       "      <td>4 GB RAM</td>\n",
       "      <td>64 GB ROM</td>\n",
       "      <td>48MP + 2MP + 2MP + AI Lens Camera</td>\n",
       "      <td>16MP Front Camera</td>\n",
       "      <td>5000 mAh</td>\n",
       "      <td>MediaTek Helio G70 Processor</td>\n",
       "      <td>₹14,999</td>\n",
       "      <td>2023-06-17</td>\n",
       "    </tr>\n",
       "    <tr>\n",
       "      <th>1834</th>\n",
       "      <td>Infinix Zero 8i (Silver Diamond, 128 GB)</td>\n",
       "      <td>4.2</td>\n",
       "      <td>7,117</td>\n",
       "      <td>8 GB RAM</td>\n",
       "      <td>128 GB ROM</td>\n",
       "      <td>48MP + 8MP + 2MP + AI Lens Camera</td>\n",
       "      <td>16MP + 8MP Dual Front Camera</td>\n",
       "      <td>4500 mAh</td>\n",
       "      <td>MediaTek Helio G90T Processor</td>\n",
       "      <td>₹18,999</td>\n",
       "      <td>2023-06-17</td>\n",
       "    </tr>\n",
       "    <tr>\n",
       "      <th>1835</th>\n",
       "      <td>Infinix S5 (Quetzal Cyan, 64 GB)</td>\n",
       "      <td>4.3</td>\n",
       "      <td>15,701</td>\n",
       "      <td>4 GB RAM</td>\n",
       "      <td>64 GB ROM</td>\n",
       "      <td>16MP + 5MP + 2MP + Low Light Sensor</td>\n",
       "      <td>32MP Front Camera</td>\n",
       "      <td>4000 mAh</td>\n",
       "      <td>Helio P22 (MTK6762) Processor</td>\n",
       "      <td>₹10,999</td>\n",
       "      <td>2023-06-17</td>\n",
       "    </tr>\n",
       "  </tbody>\n",
       "</table>\n",
       "<p>1836 rows × 11 columns</p>\n",
       "</div>"
      ],
      "text/plain": [
       "                                    Phone Name  Rating ?/5 Number of Ratings  \\\n",
       "0                 POCO C50 (Royal Blue, 32 GB)         4.2            33,561   \n",
       "1                POCO M4 5G (Cool Blue, 64 GB)         4.2            77,128   \n",
       "2                 POCO C51 (Royal Blue, 64 GB)         4.3            15,175   \n",
       "3                  POCO C55 (Cool Blue, 64 GB)         4.2            22,621   \n",
       "4                POCO C51 (Power Black, 64 GB)         4.3            15,175   \n",
       "...                                        ...         ...               ...   \n",
       "1831      Infinix Note 7 (Forest Green, 64 GB)         4.3            25,582   \n",
       "1832      Infinix Note 7 (Bolivia Blue, 64 GB)         4.3            25,582   \n",
       "1833      Infinix Note 7 (Aether Black, 64 GB)         4.3            25,582   \n",
       "1834  Infinix Zero 8i (Silver Diamond, 128 GB)         4.2             7,117   \n",
       "1835          Infinix S5 (Quetzal Cyan, 64 GB)         4.3            15,701   \n",
       "\n",
       "           RAM ROM/Storage                     Back/Rare Camera  \\\n",
       "0     2 GB RAM   32 GB ROM                      8MP Dual Camera   \n",
       "1     4 GB RAM   64 GB ROM                           50MP + 2MP   \n",
       "2     4 GB RAM   64 GB ROM                 8MP Dual Rear Camera   \n",
       "3     4 GB RAM   64 GB ROM                50MP Dual Rear Camera   \n",
       "4     4 GB RAM   64 GB ROM                 8MP Dual Rear Camera   \n",
       "...        ...         ...                                  ...   \n",
       "1831  4 GB RAM   64 GB ROM    48MP + 2MP + 2MP + AI Lens Camera   \n",
       "1832  4 GB RAM   64 GB ROM    48MP + 2MP + 2MP + AI Lens Camera   \n",
       "1833  4 GB RAM   64 GB ROM    48MP + 2MP + 2MP + AI Lens Camera   \n",
       "1834  8 GB RAM  128 GB ROM    48MP + 8MP + 2MP + AI Lens Camera   \n",
       "1835  4 GB RAM   64 GB ROM  16MP + 5MP + 2MP + Low Light Sensor   \n",
       "\n",
       "                      Front Camera   Battery  \\\n",
       "0                 5MP Front Camera  5000 mAh   \n",
       "1                 8MP Front Camera  5000 mAh   \n",
       "2                 5MP Front Camera  5000 mAh   \n",
       "3                 5MP Front Camera  5000 mAh   \n",
       "4                 5MP Front Camera  5000 mAh   \n",
       "...                            ...       ...   \n",
       "1831             16MP Front Camera  5000 mAh   \n",
       "1832             16MP Front Camera  5000 mAh   \n",
       "1833             16MP Front Camera  5000 mAh   \n",
       "1834  16MP + 8MP Dual Front Camera  4500 mAh   \n",
       "1835             32MP Front Camera  4000 mAh   \n",
       "\n",
       "                                              Processor Price in INR  \\\n",
       "0     Mediatek Helio A22 Processor, Upto 2.0 GHz Pro...       ₹5,649   \n",
       "1                      Mediatek Dimensity 700 Processor      ₹11,999   \n",
       "2                                   Helio G36 Processor       ₹6,999   \n",
       "3                          Mediatek Helio G85 Processor       ₹7,749   \n",
       "4                                   Helio G36 Processor       ₹6,999   \n",
       "...                                                 ...          ...   \n",
       "1831                       MediaTek Helio G70 Processor      ₹14,999   \n",
       "1832                       MediaTek Helio G70 Processor      ₹14,999   \n",
       "1833                       MediaTek Helio G70 Processor      ₹14,999   \n",
       "1834                      MediaTek Helio G90T Processor      ₹18,999   \n",
       "1835                      Helio P22 (MTK6762) Processor      ₹10,999   \n",
       "\n",
       "     Date of Scraping  \n",
       "0          2023-06-17  \n",
       "1          2023-06-17  \n",
       "2          2023-06-17  \n",
       "3          2023-06-17  \n",
       "4          2023-06-17  \n",
       "...               ...  \n",
       "1831       2023-06-17  \n",
       "1832       2023-06-17  \n",
       "1833       2023-06-17  \n",
       "1834       2023-06-17  \n",
       "1835       2023-06-17  \n",
       "\n",
       "[1836 rows x 11 columns]"
      ]
     },
     "execution_count": 3,
     "metadata": {},
     "output_type": "execute_result"
    }
   ],
   "source": [
    "df"
   ]
  },
  {
   "cell_type": "code",
   "execution_count": 4,
   "id": "16a4f8fa",
   "metadata": {},
   "outputs": [
    {
     "name": "stdout",
     "output_type": "stream",
     "text": [
      "<class 'pandas.core.frame.DataFrame'>\n",
      "RangeIndex: 1836 entries, 0 to 1835\n",
      "Data columns (total 11 columns):\n",
      " #   Column             Non-Null Count  Dtype  \n",
      "---  ------             --------------  -----  \n",
      " 0   Phone Name         1836 non-null   object \n",
      " 1   Rating ?/5         1836 non-null   float64\n",
      " 2   Number of Ratings  1836 non-null   object \n",
      " 3   RAM                1836 non-null   object \n",
      " 4   ROM/Storage        1662 non-null   object \n",
      " 5   Back/Rare Camera   1827 non-null   object \n",
      " 6   Front Camera       1435 non-null   object \n",
      " 7   Battery            1826 non-null   object \n",
      " 8   Processor          1781 non-null   object \n",
      " 9   Price in INR       1836 non-null   object \n",
      " 10  Date of Scraping   1836 non-null   object \n",
      "dtypes: float64(1), object(10)\n",
      "memory usage: 157.9+ KB\n"
     ]
    }
   ],
   "source": [
    "df.info()"
   ]
  },
  {
   "cell_type": "markdown",
   "id": "1676715a",
   "metadata": {},
   "source": [
    "Checking null values"
   ]
  },
  {
   "cell_type": "code",
   "execution_count": 5,
   "id": "7c330b6f",
   "metadata": {},
   "outputs": [
    {
     "data": {
      "text/plain": [
       "Phone Name             0\n",
       "Rating ?/5             0\n",
       "Number of Ratings      0\n",
       "RAM                    0\n",
       "ROM/Storage          174\n",
       "Back/Rare Camera       9\n",
       "Front Camera         401\n",
       "Battery               10\n",
       "Processor             55\n",
       "Price in INR           0\n",
       "Date of Scraping       0\n",
       "dtype: int64"
      ]
     },
     "execution_count": 5,
     "metadata": {},
     "output_type": "execute_result"
    }
   ],
   "source": [
    "df.isnull().sum()"
   ]
  },
  {
   "cell_type": "code",
   "execution_count": 6,
   "id": "c5d47e96",
   "metadata": {},
   "outputs": [
    {
     "data": {
      "text/plain": [
       "Date of Scraping\n",
       "2023-06-17    1836\n",
       "Name: count, dtype: int64"
      ]
     },
     "execution_count": 6,
     "metadata": {},
     "output_type": "execute_result"
    }
   ],
   "source": [
    "df[\"Date of Scraping\"].value_counts()"
   ]
  },
  {
   "cell_type": "code",
   "execution_count": 7,
   "id": "b46f4411",
   "metadata": {
    "scrolled": true
   },
   "outputs": [
    {
     "data": {
      "text/plain": [
       "RAM\n",
       "8 GB RAM                      438\n",
       "4 GB RAM                      383\n",
       "6 GB RAM                      322\n",
       "3 GB RAM                      175\n",
       "2 GB RAM                      108\n",
       "12 GB RAM                      91\n",
       "4 MB RAM                       53\n",
       "128 GB ROM                     43\n",
       "256 GB ROM                     37\n",
       "512 GB ROM                     27\n",
       "64 GB ROM                      23\n",
       "1 GB RAM                       18\n",
       "NA ROM                         13\n",
       "cm Display                      9\n",
       "0.046875 GB RAM                 8\n",
       "32 MB RAM                       8\n",
       "1 TB ROM                        7\n",
       "8 MB RAM                        7\n",
       "16 GB RAM                       6\n",
       "64 MB RAM                       6\n",
       "0 MB ROM                        5\n",
       "128 MB RAM                      5\n",
       "512 MB RAM                      5\n",
       "16 MB ROM                       4\n",
       "16 MB RAM                       4\n",
       "16 GB ROM                       3\n",
       "50 MB ROM                       2\n",
       "1 MB ROM                        2\n",
       "153 MB RAM                      2\n",
       "48 MB RAM                       2\n",
       "Expandable Upto 16 GB           2\n",
       "8 GB ROM                        2\n",
       "256 MB RAM                      2\n",
       "32 GB ROM                       2\n",
       "80 MB ROM                       1\n",
       "2 MB ROM                        1\n",
       "Expandable Upto 2 GB            1\n",
       "60 MB ROM                       1\n",
       "3.81 cm (1.5 inch) Display      1\n",
       "1.5 GB RAM                      1\n",
       "NA MB ROM                       1\n",
       "768 MB RAM                      1\n",
       "8 MB ROM                        1\n",
       "32 MB ROM                       1\n",
       "0.53 RAM                        1\n",
       "1 MB RAM                        1\n",
       "Name: count, dtype: int64"
      ]
     },
     "execution_count": 7,
     "metadata": {},
     "output_type": "execute_result"
    }
   ],
   "source": [
    "df[\"RAM\"].value_counts()"
   ]
  },
  {
   "cell_type": "code",
   "execution_count": 8,
   "id": "b230559d",
   "metadata": {},
   "outputs": [
    {
     "data": {
      "text/plain": [
       "ROM/Storage\n",
       "128 GB ROM               689\n",
       "64 GB ROM                401\n",
       "32 GB ROM                210\n",
       "256 GB ROM               189\n",
       "4 MB ROM                  41\n",
       "16 GB ROM                 33\n",
       "8 GB ROM                  15\n",
       "32 MB ROM                 13\n",
       "128 MB ROM                11\n",
       "0.125 GB ROM               8\n",
       "Expandable Upto 32 GB      8\n",
       "4 GB ROM                   7\n",
       "16 MB ROM                  7\n",
       "Expandable Upto 16 GB      5\n",
       "48 MB ROM                  5\n",
       "512 GB ROM                 4\n",
       "2.27 MB ROM                2\n",
       "10 MB ROM                  2\n",
       "153 MB ROM                 2\n",
       "100 MB ROM                 2\n",
       "Expandable Upto 8 GB       2\n",
       "0 GB ROM                   1\n",
       "NA KB ROM                  1\n",
       "2 MB ROM                   1\n",
       "NA ROM                     1\n",
       "20 MB ROM                  1\n",
       "100 KB ROM                 1\n",
       "Name: count, dtype: int64"
      ]
     },
     "execution_count": 8,
     "metadata": {},
     "output_type": "execute_result"
    }
   ],
   "source": [
    "df[\"ROM/Storage\"].value_counts()"
   ]
  },
  {
   "cell_type": "code",
   "execution_count": 9,
   "id": "c77d32d3",
   "metadata": {},
   "outputs": [
    {
     "data": {
      "text/plain": [
       "Battery\n",
       "5000 mAh    786\n",
       "4500 mAh    148\n",
       "6000 mAh    113\n",
       "4000 mAh     99\n",
       "A15 mAh      76\n",
       "           ... \n",
       "1110 mAh      1\n",
       "1430 mAh      1\n",
       "4780 mAh      1\n",
       "5300 mAh      1\n",
       "3225 mAh      1\n",
       "Name: count, Length: 102, dtype: int64"
      ]
     },
     "execution_count": 9,
     "metadata": {},
     "output_type": "execute_result"
    }
   ],
   "source": [
    "df[\"Battery\"].value_counts()"
   ]
  },
  {
   "cell_type": "code",
   "execution_count": 10,
   "id": "c4080701",
   "metadata": {},
   "outputs": [
    {
     "data": {
      "text/plain": [
       "Processor\n",
       "1 Year Warranty for Phone and 6 Months Warranty for In-Box Accessories    47\n",
       "Qualcomm Snapdragon 680 Processor                                         45\n",
       "Brand Warranty for 1 Year                                                 40\n",
       "12 months                                                                 35\n",
       "Qualcomm Snapdragon 778G Processor                                        33\n",
       "                                                                          ..\n",
       "SDM710 Processor                                                           1\n",
       "1 Year Manufacturer Warranty for Handset and 6 Months for Accessories      1\n",
       "Mediatek MT6763T Octa Core 2.5 GHz Processor                               1\n",
       "MT6737M Quad Core 1.1 GHz Processor                                        1\n",
       "Helio P22 (MTK6762) Processor                                              1\n",
       "Name: count, Length: 332, dtype: int64"
      ]
     },
     "execution_count": 10,
     "metadata": {},
     "output_type": "execute_result"
    }
   ],
   "source": [
    "df[\"Processor\"].value_counts()"
   ]
  },
  {
   "cell_type": "code",
   "execution_count": 11,
   "id": "745f3033",
   "metadata": {},
   "outputs": [
    {
     "data": {
      "text/plain": [
       "Front Camera\n",
       "16MP Front Camera               332\n",
       "8MP Front Camera                307\n",
       "5MP Front Camera                273\n",
       "12MP Front Camera               121\n",
       "32MP Front Camera               102\n",
       "13MP Front Camera                70\n",
       "20MP Front Camera                57\n",
       "7MP Front Camera                 27\n",
       "32MP + 8MP Dual Front Camera     15\n",
       "50MP Front Camera                15\n",
       "20MP + 2MP Dual Front Camera     14\n",
       "44MP Front Camera                11\n",
       "2MP Front Camera                  9\n",
       "10.8MP Front Camera               9\n",
       "10MP Front Camera                 8\n",
       "25MP Front Camera                 8\n",
       "50MP + 8MP Dual Front Camera      8\n",
       "0.3MP Front Camera                7\n",
       "16MP + 2MP Dual Front Camera      6\n",
       "44MP + 2MP Dual Front Camera      5\n",
       "60MP Front Camera                 5\n",
       "4MP Front Camera                  4\n",
       "24MP Front Camera                 3\n",
       "16MP + 8MP Dual Front Camera      3\n",
       "8MP + 2MP Dual Front Camera       3\n",
       "60 MP with OIS                    3\n",
       "16MP Dual Front Camera            2\n",
       "32MP + 2MP Dual Front Camera      2\n",
       "1.6MP Front Camera                2\n",
       "8MP + 8MP Dual Front Camera       1\n",
       "0MP Front Camera                  1\n",
       "1.3MP Front Camera                1\n",
       "13MP + 5MP Dual Front Camera      1\n",
       "Name: count, dtype: int64"
      ]
     },
     "execution_count": 11,
     "metadata": {},
     "output_type": "execute_result"
    }
   ],
   "source": [
    "df[\"Front Camera\"].value_counts()"
   ]
  },
  {
   "cell_type": "code",
   "execution_count": 12,
   "id": "8bd452b5",
   "metadata": {},
   "outputs": [
    {
     "data": {
      "text/plain": [
       "Back/Rare Camera\n",
       "50MP Rear Camera                       101\n",
       "13MP Rear Camera                        93\n",
       "12MP + 12MP                             81\n",
       "13MP + 2MP                              81\n",
       "50MP + 2MP + 2MP                        80\n",
       "                                      ... \n",
       "48MP + 5MP + 16MP                        1\n",
       "108MP + 8MP + 16MP                       1\n",
       "108MP + 16MP + 8MP                       1\n",
       "16MP + 2MP + 2MP                         1\n",
       "16MP + 5MP + 2MP + Low Light Sensor      1\n",
       "Name: count, Length: 174, dtype: int64"
      ]
     },
     "execution_count": 12,
     "metadata": {},
     "output_type": "execute_result"
    }
   ],
   "source": [
    "df[\"Back/Rare Camera\"].value_counts()"
   ]
  },
  {
   "cell_type": "code",
   "execution_count": 13,
   "id": "d499108d",
   "metadata": {},
   "outputs": [
    {
     "data": {
      "text/plain": [
       "Phone Name\n",
       "SAMSUNG Guru Music 2                          9\n",
       "OnePlus 10R 5G (Sierra Black, 256 GB)         5\n",
       "Nokia 8210 4G                                 4\n",
       "OnePlus Nord CE 2 5G (Bahama Blue, 128 GB)    4\n",
       "Nokia 3310 DS 2020                            4\n",
       "                                             ..\n",
       "OPPO A785G (Blue, 128 GB)                     1\n",
       "OPPO A54 (Moonlight Gold, 64 GB)              1\n",
       "OPPO A54 (Crystal Black, 64 GB)               1\n",
       "OPPO A16E (White, 32 GB)                      1\n",
       "Infinix S5 (Quetzal Cyan, 64 GB)              1\n",
       "Name: count, Length: 1507, dtype: int64"
      ]
     },
     "execution_count": 13,
     "metadata": {},
     "output_type": "execute_result"
    }
   ],
   "source": [
    "df[\"Phone Name\"].value_counts()"
   ]
  },
  {
   "cell_type": "markdown",
   "id": "1c755fe8",
   "metadata": {},
   "source": [
    "## Data Cleaning"
   ]
  },
  {
   "cell_type": "markdown",
   "id": "0a6ebf98",
   "metadata": {},
   "source": [
    "Removing Processor column because it has lack of information"
   ]
  },
  {
   "cell_type": "code",
   "execution_count": 14,
   "id": "a635e961",
   "metadata": {},
   "outputs": [],
   "source": [
    "df = df.drop(\"Processor\", axis=1)"
   ]
  },
  {
   "cell_type": "markdown",
   "id": "b7ea570d",
   "metadata": {},
   "source": [
    "Removing Date of Scraping column "
   ]
  },
  {
   "cell_type": "code",
   "execution_count": 15,
   "id": "d709efdc",
   "metadata": {},
   "outputs": [],
   "source": [
    "df = df.drop(\"Date of Scraping\", axis=1)"
   ]
  },
  {
   "cell_type": "code",
   "execution_count": 16,
   "id": "e038e03f",
   "metadata": {},
   "outputs": [
    {
     "data": {
      "text/html": [
       "<div>\n",
       "<style scoped>\n",
       "    .dataframe tbody tr th:only-of-type {\n",
       "        vertical-align: middle;\n",
       "    }\n",
       "\n",
       "    .dataframe tbody tr th {\n",
       "        vertical-align: top;\n",
       "    }\n",
       "\n",
       "    .dataframe thead th {\n",
       "        text-align: right;\n",
       "    }\n",
       "</style>\n",
       "<table border=\"1\" class=\"dataframe\">\n",
       "  <thead>\n",
       "    <tr style=\"text-align: right;\">\n",
       "      <th></th>\n",
       "      <th>Phone Name</th>\n",
       "      <th>Rating ?/5</th>\n",
       "      <th>Number of Ratings</th>\n",
       "      <th>RAM</th>\n",
       "      <th>ROM/Storage</th>\n",
       "      <th>Back/Rare Camera</th>\n",
       "      <th>Front Camera</th>\n",
       "      <th>Battery</th>\n",
       "      <th>Price in INR</th>\n",
       "    </tr>\n",
       "  </thead>\n",
       "  <tbody>\n",
       "    <tr>\n",
       "      <th>0</th>\n",
       "      <td>POCO C50 (Royal Blue, 32 GB)</td>\n",
       "      <td>4.2</td>\n",
       "      <td>33,561</td>\n",
       "      <td>2 GB RAM</td>\n",
       "      <td>32 GB ROM</td>\n",
       "      <td>8MP Dual Camera</td>\n",
       "      <td>5MP Front Camera</td>\n",
       "      <td>5000 mAh</td>\n",
       "      <td>₹5,649</td>\n",
       "    </tr>\n",
       "    <tr>\n",
       "      <th>1</th>\n",
       "      <td>POCO M4 5G (Cool Blue, 64 GB)</td>\n",
       "      <td>4.2</td>\n",
       "      <td>77,128</td>\n",
       "      <td>4 GB RAM</td>\n",
       "      <td>64 GB ROM</td>\n",
       "      <td>50MP + 2MP</td>\n",
       "      <td>8MP Front Camera</td>\n",
       "      <td>5000 mAh</td>\n",
       "      <td>₹11,999</td>\n",
       "    </tr>\n",
       "    <tr>\n",
       "      <th>2</th>\n",
       "      <td>POCO C51 (Royal Blue, 64 GB)</td>\n",
       "      <td>4.3</td>\n",
       "      <td>15,175</td>\n",
       "      <td>4 GB RAM</td>\n",
       "      <td>64 GB ROM</td>\n",
       "      <td>8MP Dual Rear Camera</td>\n",
       "      <td>5MP Front Camera</td>\n",
       "      <td>5000 mAh</td>\n",
       "      <td>₹6,999</td>\n",
       "    </tr>\n",
       "    <tr>\n",
       "      <th>3</th>\n",
       "      <td>POCO C55 (Cool Blue, 64 GB)</td>\n",
       "      <td>4.2</td>\n",
       "      <td>22,621</td>\n",
       "      <td>4 GB RAM</td>\n",
       "      <td>64 GB ROM</td>\n",
       "      <td>50MP Dual Rear Camera</td>\n",
       "      <td>5MP Front Camera</td>\n",
       "      <td>5000 mAh</td>\n",
       "      <td>₹7,749</td>\n",
       "    </tr>\n",
       "    <tr>\n",
       "      <th>4</th>\n",
       "      <td>POCO C51 (Power Black, 64 GB)</td>\n",
       "      <td>4.3</td>\n",
       "      <td>15,175</td>\n",
       "      <td>4 GB RAM</td>\n",
       "      <td>64 GB ROM</td>\n",
       "      <td>8MP Dual Rear Camera</td>\n",
       "      <td>5MP Front Camera</td>\n",
       "      <td>5000 mAh</td>\n",
       "      <td>₹6,999</td>\n",
       "    </tr>\n",
       "    <tr>\n",
       "      <th>...</th>\n",
       "      <td>...</td>\n",
       "      <td>...</td>\n",
       "      <td>...</td>\n",
       "      <td>...</td>\n",
       "      <td>...</td>\n",
       "      <td>...</td>\n",
       "      <td>...</td>\n",
       "      <td>...</td>\n",
       "      <td>...</td>\n",
       "    </tr>\n",
       "    <tr>\n",
       "      <th>1831</th>\n",
       "      <td>Infinix Note 7 (Forest Green, 64 GB)</td>\n",
       "      <td>4.3</td>\n",
       "      <td>25,582</td>\n",
       "      <td>4 GB RAM</td>\n",
       "      <td>64 GB ROM</td>\n",
       "      <td>48MP + 2MP + 2MP + AI Lens Camera</td>\n",
       "      <td>16MP Front Camera</td>\n",
       "      <td>5000 mAh</td>\n",
       "      <td>₹14,999</td>\n",
       "    </tr>\n",
       "    <tr>\n",
       "      <th>1832</th>\n",
       "      <td>Infinix Note 7 (Bolivia Blue, 64 GB)</td>\n",
       "      <td>4.3</td>\n",
       "      <td>25,582</td>\n",
       "      <td>4 GB RAM</td>\n",
       "      <td>64 GB ROM</td>\n",
       "      <td>48MP + 2MP + 2MP + AI Lens Camera</td>\n",
       "      <td>16MP Front Camera</td>\n",
       "      <td>5000 mAh</td>\n",
       "      <td>₹14,999</td>\n",
       "    </tr>\n",
       "    <tr>\n",
       "      <th>1833</th>\n",
       "      <td>Infinix Note 7 (Aether Black, 64 GB)</td>\n",
       "      <td>4.3</td>\n",
       "      <td>25,582</td>\n",
       "      <td>4 GB RAM</td>\n",
       "      <td>64 GB ROM</td>\n",
       "      <td>48MP + 2MP + 2MP + AI Lens Camera</td>\n",
       "      <td>16MP Front Camera</td>\n",
       "      <td>5000 mAh</td>\n",
       "      <td>₹14,999</td>\n",
       "    </tr>\n",
       "    <tr>\n",
       "      <th>1834</th>\n",
       "      <td>Infinix Zero 8i (Silver Diamond, 128 GB)</td>\n",
       "      <td>4.2</td>\n",
       "      <td>7,117</td>\n",
       "      <td>8 GB RAM</td>\n",
       "      <td>128 GB ROM</td>\n",
       "      <td>48MP + 8MP + 2MP + AI Lens Camera</td>\n",
       "      <td>16MP + 8MP Dual Front Camera</td>\n",
       "      <td>4500 mAh</td>\n",
       "      <td>₹18,999</td>\n",
       "    </tr>\n",
       "    <tr>\n",
       "      <th>1835</th>\n",
       "      <td>Infinix S5 (Quetzal Cyan, 64 GB)</td>\n",
       "      <td>4.3</td>\n",
       "      <td>15,701</td>\n",
       "      <td>4 GB RAM</td>\n",
       "      <td>64 GB ROM</td>\n",
       "      <td>16MP + 5MP + 2MP + Low Light Sensor</td>\n",
       "      <td>32MP Front Camera</td>\n",
       "      <td>4000 mAh</td>\n",
       "      <td>₹10,999</td>\n",
       "    </tr>\n",
       "  </tbody>\n",
       "</table>\n",
       "<p>1647 rows × 9 columns</p>\n",
       "</div>"
      ],
      "text/plain": [
       "                                    Phone Name  Rating ?/5 Number of Ratings  \\\n",
       "0                 POCO C50 (Royal Blue, 32 GB)         4.2            33,561   \n",
       "1                POCO M4 5G (Cool Blue, 64 GB)         4.2            77,128   \n",
       "2                 POCO C51 (Royal Blue, 64 GB)         4.3            15,175   \n",
       "3                  POCO C55 (Cool Blue, 64 GB)         4.2            22,621   \n",
       "4                POCO C51 (Power Black, 64 GB)         4.3            15,175   \n",
       "...                                        ...         ...               ...   \n",
       "1831      Infinix Note 7 (Forest Green, 64 GB)         4.3            25,582   \n",
       "1832      Infinix Note 7 (Bolivia Blue, 64 GB)         4.3            25,582   \n",
       "1833      Infinix Note 7 (Aether Black, 64 GB)         4.3            25,582   \n",
       "1834  Infinix Zero 8i (Silver Diamond, 128 GB)         4.2             7,117   \n",
       "1835          Infinix S5 (Quetzal Cyan, 64 GB)         4.3            15,701   \n",
       "\n",
       "           RAM ROM/Storage                     Back/Rare Camera  \\\n",
       "0     2 GB RAM   32 GB ROM                      8MP Dual Camera   \n",
       "1     4 GB RAM   64 GB ROM                           50MP + 2MP   \n",
       "2     4 GB RAM   64 GB ROM                 8MP Dual Rear Camera   \n",
       "3     4 GB RAM   64 GB ROM                50MP Dual Rear Camera   \n",
       "4     4 GB RAM   64 GB ROM                 8MP Dual Rear Camera   \n",
       "...        ...         ...                                  ...   \n",
       "1831  4 GB RAM   64 GB ROM    48MP + 2MP + 2MP + AI Lens Camera   \n",
       "1832  4 GB RAM   64 GB ROM    48MP + 2MP + 2MP + AI Lens Camera   \n",
       "1833  4 GB RAM   64 GB ROM    48MP + 2MP + 2MP + AI Lens Camera   \n",
       "1834  8 GB RAM  128 GB ROM    48MP + 8MP + 2MP + AI Lens Camera   \n",
       "1835  4 GB RAM   64 GB ROM  16MP + 5MP + 2MP + Low Light Sensor   \n",
       "\n",
       "                      Front Camera   Battery Price in INR  \n",
       "0                 5MP Front Camera  5000 mAh       ₹5,649  \n",
       "1                 8MP Front Camera  5000 mAh      ₹11,999  \n",
       "2                 5MP Front Camera  5000 mAh       ₹6,999  \n",
       "3                 5MP Front Camera  5000 mAh       ₹7,749  \n",
       "4                 5MP Front Camera  5000 mAh       ₹6,999  \n",
       "...                            ...       ...          ...  \n",
       "1831             16MP Front Camera  5000 mAh      ₹14,999  \n",
       "1832             16MP Front Camera  5000 mAh      ₹14,999  \n",
       "1833             16MP Front Camera  5000 mAh      ₹14,999  \n",
       "1834  16MP + 8MP Dual Front Camera  4500 mAh      ₹18,999  \n",
       "1835             32MP Front Camera  4000 mAh      ₹10,999  \n",
       "\n",
       "[1647 rows x 9 columns]"
      ]
     },
     "execution_count": 16,
     "metadata": {},
     "output_type": "execute_result"
    }
   ],
   "source": [
    "df.loc[df[\"RAM\"].str.contains(\"RAM\")]"
   ]
  },
  {
   "cell_type": "markdown",
   "id": "9d735012",
   "metadata": {},
   "source": [
    "Removing rows without information of RAM in RAM column"
   ]
  },
  {
   "cell_type": "code",
   "execution_count": 17,
   "id": "24d491f2",
   "metadata": {},
   "outputs": [],
   "source": [
    "df = df.loc[df[\"RAM\"].str.contains(\"RAM\")]"
   ]
  },
  {
   "cell_type": "markdown",
   "id": "81266202",
   "metadata": {},
   "source": [
    "Filling all rows with NaN values in Front Camera to 0"
   ]
  },
  {
   "cell_type": "code",
   "execution_count": 18,
   "id": "0ddd1c9c",
   "metadata": {},
   "outputs": [],
   "source": [
    "df[\"Front Camera\"] = df[\"Front Camera\"].fillna('0')"
   ]
  },
  {
   "cell_type": "code",
   "execution_count": 19,
   "id": "1f3865d7",
   "metadata": {},
   "outputs": [
    {
     "data": {
      "text/plain": [
       "Phone Name           0\n",
       "Rating ?/5           0\n",
       "Number of Ratings    0\n",
       "RAM                  0\n",
       "ROM/Storage          0\n",
       "Back/Rare Camera     0\n",
       "Front Camera         0\n",
       "Battery              0\n",
       "Price in INR         0\n",
       "dtype: int64"
      ]
     },
     "execution_count": 19,
     "metadata": {},
     "output_type": "execute_result"
    }
   ],
   "source": [
    "df.isnull().sum()"
   ]
  },
  {
   "cell_type": "markdown",
   "id": "94ab445a",
   "metadata": {},
   "source": [
    "Removing Diplicated Phone Name Rows"
   ]
  },
  {
   "cell_type": "code",
   "execution_count": 20,
   "id": "74138587",
   "metadata": {},
   "outputs": [],
   "source": [
    "df = df[~df.duplicated(subset=[\"Phone Name\"], keep=\"first\")]"
   ]
  },
  {
   "cell_type": "markdown",
   "id": "61ef4140",
   "metadata": {},
   "source": [
    "#### Makes Phone Name as index column"
   ]
  },
  {
   "cell_type": "code",
   "execution_count": 21,
   "id": "b6b735ee",
   "metadata": {},
   "outputs": [],
   "source": [
    "df = df.set_index(\"Phone Name\")"
   ]
  },
  {
   "cell_type": "markdown",
   "id": "727c536b",
   "metadata": {},
   "source": [
    "#### Making Number of Ratings as numeric column"
   ]
  },
  {
   "cell_type": "code",
   "execution_count": 22,
   "id": "581902a4",
   "metadata": {},
   "outputs": [],
   "source": [
    "df[\"Number of Ratings\"] = df[\"Number of Ratings\"].str.replace(\",\",\"\")"
   ]
  },
  {
   "cell_type": "code",
   "execution_count": 23,
   "id": "0803c403",
   "metadata": {},
   "outputs": [],
   "source": [
    "df = df.astype({\"Number of Ratings\":\"float\"})"
   ]
  },
  {
   "cell_type": "code",
   "execution_count": 24,
   "id": "c098211b",
   "metadata": {},
   "outputs": [
    {
     "data": {
      "text/plain": [
       "count       1348.00\n",
       "mean       47139.86\n",
       "std       104060.84\n",
       "min            0.00\n",
       "25%         1313.00\n",
       "50%         7885.00\n",
       "75%        40312.00\n",
       "max      1342530.00\n",
       "Name: Number of Ratings, dtype: float64"
      ]
     },
     "execution_count": 24,
     "metadata": {},
     "output_type": "execute_result"
    }
   ],
   "source": [
    "df[\"Number of Ratings\"].describe().round(2)"
   ]
  },
  {
   "cell_type": "code",
   "execution_count": 25,
   "id": "49fc720c",
   "metadata": {},
   "outputs": [
    {
     "data": {
      "text/plain": [
       "<Axes: xlabel='Number of Ratings'>"
      ]
     },
     "execution_count": 25,
     "metadata": {},
     "output_type": "execute_result"
    },
    {
     "data": {
      "image/png": "[encoded data removed]",
      "text/plain": [
       "<Figure size 1200x500 with 1 Axes>"
      ]
     },
     "metadata": {},
     "output_type": "display_data"
    }
   ],
   "source": [
    "plt.figure(figsize=(12,5))\n",
    "sns.boxplot(data=df, x=\"Number of Ratings\")"
   ]
  },
  {
   "cell_type": "markdown",
   "id": "e0e2cc74",
   "metadata": {},
   "source": [
    "Removing rows with less than 100 votes and more than 400 000"
   ]
  },
  {
   "cell_type": "code",
   "execution_count": 26,
   "id": "6855a787",
   "metadata": {},
   "outputs": [],
   "source": [
    "df = df.drop(df[df[\"Number of Ratings\"] < 100].index, axis=0)\n",
    "df = df.drop(df[df[\"Number of Ratings\"] > 400000].index, axis=0)"
   ]
  },
  {
   "cell_type": "code",
   "execution_count": 27,
   "id": "0b5b4304",
   "metadata": {},
   "outputs": [
    {
     "data": {
      "text/plain": [
       "<Axes: xlabel='Number of Ratings'>"
      ]
     },
     "execution_count": 27,
     "metadata": {},
     "output_type": "execute_result"
    },
    {
     "data": {
      "image/png": "[encoded data removed]",
      "text/plain": [
       "<Figure size 1200x500 with 1 Axes>"
      ]
     },
     "metadata": {},
     "output_type": "display_data"
    }
   ],
   "source": [
    "plt.figure(figsize=(12,5))\n",
    "sns.boxplot(data=df, x=\"Number of Ratings\")"
   ]
  },
  {
   "cell_type": "markdown",
   "id": "15a1cdbf",
   "metadata": {},
   "source": [
    "Removing rows which dont have GB of RAM"
   ]
  },
  {
   "cell_type": "code",
   "execution_count": 28,
   "id": "7fc3bb04",
   "metadata": {},
   "outputs": [],
   "source": [
    "df = df.loc[df[\"RAM\"].str.contains(\"GB\")]"
   ]
  },
  {
   "cell_type": "markdown",
   "id": "50a32d45",
   "metadata": {},
   "source": [
    "#### Making RAM as numeric column"
   ]
  },
  {
   "cell_type": "code",
   "execution_count": 29,
   "id": "b3280375",
   "metadata": {},
   "outputs": [],
   "source": [
    "df[\"RAM\"] = df[\"RAM\"].str.replace('\\D', '', regex=True)"
   ]
  },
  {
   "cell_type": "code",
   "execution_count": 30,
   "id": "7061b94b",
   "metadata": {},
   "outputs": [],
   "source": [
    "df = df.rename(columns={\"RAM\":\"GB of RAM\"})"
   ]
  },
  {
   "cell_type": "code",
   "execution_count": 31,
   "id": "4cde2637",
   "metadata": {},
   "outputs": [],
   "source": [
    "df = df.astype({\"GB of RAM\":\"int\"})"
   ]
  },
  {
   "cell_type": "code",
   "execution_count": 32,
   "id": "d6911c31",
   "metadata": {},
   "outputs": [
    {
     "data": {
      "text/plain": [
       "<Axes: xlabel='GB of RAM'>"
      ]
     },
     "execution_count": 32,
     "metadata": {},
     "output_type": "execute_result"
    },
    {
     "data": {
      "image/png": "[encoded data removed]",
      "text/plain": [
       "<Figure size 1200x500 with 1 Axes>"
      ]
     },
     "metadata": {},
     "output_type": "display_data"
    }
   ],
   "source": [
    "plt.figure(figsize=(12,5))\n",
    "sns.boxplot(data=df, x=\"GB of RAM\")"
   ]
  },
  {
   "cell_type": "markdown",
   "id": "3ce787a8",
   "metadata": {},
   "source": [
    "Remove Hight value"
   ]
  },
  {
   "cell_type": "code",
   "execution_count": 33,
   "id": "edb13736",
   "metadata": {},
   "outputs": [],
   "source": [
    "df = df.drop(df[df[\"GB of RAM\"]>100].index, axis=0)"
   ]
  },
  {
   "cell_type": "code",
   "execution_count": 34,
   "id": "5a4617ff",
   "metadata": {},
   "outputs": [
    {
     "data": {
      "text/plain": [
       "<Axes: xlabel='GB of RAM'>"
      ]
     },
     "execution_count": 34,
     "metadata": {},
     "output_type": "execute_result"
    },
    {
     "data": {
      "image/png": "[encoded data removed]",
      "text/plain": [
       "<Figure size 1200x500 with 1 Axes>"
      ]
     },
     "metadata": {},
     "output_type": "display_data"
    }
   ],
   "source": [
    "plt.figure(figsize=(12,5))\n",
    "sns.boxplot(data=df, x=\"GB of RAM\")"
   ]
  },
  {
   "cell_type": "markdown",
   "id": "9c5f05c6",
   "metadata": {},
   "source": [
    "Checking if there is any ROM who have other value than GB"
   ]
  },
  {
   "cell_type": "code",
   "execution_count": 35,
   "id": "78062b27",
   "metadata": {},
   "outputs": [
    {
     "data": {
      "text/html": [
       "<div>\n",
       "<style scoped>\n",
       "    .dataframe tbody tr th:only-of-type {\n",
       "        vertical-align: middle;\n",
       "    }\n",
       "\n",
       "    .dataframe tbody tr th {\n",
       "        vertical-align: top;\n",
       "    }\n",
       "\n",
       "    .dataframe thead th {\n",
       "        text-align: right;\n",
       "    }\n",
       "</style>\n",
       "<table border=\"1\" class=\"dataframe\">\n",
       "  <thead>\n",
       "    <tr style=\"text-align: right;\">\n",
       "      <th></th>\n",
       "      <th>Rating ?/5</th>\n",
       "      <th>Number of Ratings</th>\n",
       "      <th>GB of RAM</th>\n",
       "      <th>ROM/Storage</th>\n",
       "      <th>Back/Rare Camera</th>\n",
       "      <th>Front Camera</th>\n",
       "      <th>Battery</th>\n",
       "      <th>Price in INR</th>\n",
       "    </tr>\n",
       "    <tr>\n",
       "      <th>Phone Name</th>\n",
       "      <th></th>\n",
       "      <th></th>\n",
       "      <th></th>\n",
       "      <th></th>\n",
       "      <th></th>\n",
       "      <th></th>\n",
       "      <th></th>\n",
       "      <th></th>\n",
       "    </tr>\n",
       "  </thead>\n",
       "  <tbody>\n",
       "  </tbody>\n",
       "</table>\n",
       "</div>"
      ],
      "text/plain": [
       "Empty DataFrame\n",
       "Columns: [Rating ?/5, Number of Ratings, GB of RAM, ROM/Storage, Back/Rare Camera, Front Camera, Battery, Price in INR]\n",
       "Index: []"
      ]
     },
     "execution_count": 35,
     "metadata": {},
     "output_type": "execute_result"
    }
   ],
   "source": [
    "df.loc[~df[\"ROM/Storage\"].str.contains(\"GB\")]"
   ]
  },
  {
   "cell_type": "markdown",
   "id": "9f72e5b7",
   "metadata": {},
   "source": [
    "#### Making ROM/Storage as numeric column"
   ]
  },
  {
   "cell_type": "code",
   "execution_count": 36,
   "id": "17b0e86f",
   "metadata": {},
   "outputs": [],
   "source": [
    "df[\"ROM/Storage\"] = df[\"ROM/Storage\"].str.replace('\\D', '', regex=True)"
   ]
  },
  {
   "cell_type": "code",
   "execution_count": 37,
   "id": "5f98d58c",
   "metadata": {},
   "outputs": [],
   "source": [
    "df = df.rename(columns={\"ROM/Storage\":\"GB in ROM/Storage\"})"
   ]
  },
  {
   "cell_type": "code",
   "execution_count": 38,
   "id": "f6ec2e08",
   "metadata": {},
   "outputs": [],
   "source": [
    "df = df.astype({\"GB in ROM/Storage\":\"int\"})"
   ]
  },
  {
   "cell_type": "code",
   "execution_count": 39,
   "id": "21a3056c",
   "metadata": {},
   "outputs": [
    {
     "data": {
      "text/plain": [
       "<Axes: xlabel='GB in ROM/Storage'>"
      ]
     },
     "execution_count": 39,
     "metadata": {},
     "output_type": "execute_result"
    },
    {
     "data": {
      "image/png": "[encoded data removed]",
      "text/plain": [
       "<Figure size 1200x500 with 1 Axes>"
      ]
     },
     "metadata": {},
     "output_type": "display_data"
    }
   ],
   "source": [
    "plt.figure(figsize=(12,5))\n",
    "sns.boxplot(data=df, x=\"GB in ROM/Storage\")"
   ]
  },
  {
   "cell_type": "markdown",
   "id": "4b2b1d7f",
   "metadata": {},
   "source": [
    "Checking if there is any Battery who have other value than mAh"
   ]
  },
  {
   "cell_type": "code",
   "execution_count": 40,
   "id": "e0450c73",
   "metadata": {
    "scrolled": true
   },
   "outputs": [
    {
     "data": {
      "text/html": [
       "<div>\n",
       "<style scoped>\n",
       "    .dataframe tbody tr th:only-of-type {\n",
       "        vertical-align: middle;\n",
       "    }\n",
       "\n",
       "    .dataframe tbody tr th {\n",
       "        vertical-align: top;\n",
       "    }\n",
       "\n",
       "    .dataframe thead th {\n",
       "        text-align: right;\n",
       "    }\n",
       "</style>\n",
       "<table border=\"1\" class=\"dataframe\">\n",
       "  <thead>\n",
       "    <tr style=\"text-align: right;\">\n",
       "      <th></th>\n",
       "      <th>Rating ?/5</th>\n",
       "      <th>Number of Ratings</th>\n",
       "      <th>GB of RAM</th>\n",
       "      <th>GB in ROM/Storage</th>\n",
       "      <th>Back/Rare Camera</th>\n",
       "      <th>Front Camera</th>\n",
       "      <th>Battery</th>\n",
       "      <th>Price in INR</th>\n",
       "    </tr>\n",
       "    <tr>\n",
       "      <th>Phone Name</th>\n",
       "      <th></th>\n",
       "      <th></th>\n",
       "      <th></th>\n",
       "      <th></th>\n",
       "      <th></th>\n",
       "      <th></th>\n",
       "      <th></th>\n",
       "      <th></th>\n",
       "    </tr>\n",
       "  </thead>\n",
       "  <tbody>\n",
       "  </tbody>\n",
       "</table>\n",
       "</div>"
      ],
      "text/plain": [
       "Empty DataFrame\n",
       "Columns: [Rating ?/5, Number of Ratings, GB of RAM, GB in ROM/Storage, Back/Rare Camera, Front Camera, Battery, Price in INR]\n",
       "Index: []"
      ]
     },
     "execution_count": 40,
     "metadata": {},
     "output_type": "execute_result"
    }
   ],
   "source": [
    "df.loc[~df[\"Battery\"].str.contains(\"mAh\")]"
   ]
  },
  {
   "cell_type": "markdown",
   "id": "3029023e",
   "metadata": {},
   "source": [
    "#### Making Battery as numeric column"
   ]
  },
  {
   "cell_type": "code",
   "execution_count": 41,
   "id": "b6eff286",
   "metadata": {},
   "outputs": [],
   "source": [
    "df[\"Battery\"] = df[\"Battery\"].str.replace('\\D', '', regex=True)"
   ]
  },
  {
   "cell_type": "code",
   "execution_count": 42,
   "id": "def726bb",
   "metadata": {},
   "outputs": [],
   "source": [
    "df = df.rename(columns={\"Battery\":\"Battery mAh\"})"
   ]
  },
  {
   "cell_type": "code",
   "execution_count": 43,
   "id": "a05e4ba1",
   "metadata": {},
   "outputs": [],
   "source": [
    "df = df.astype({\"Battery mAh\":\"int\"})"
   ]
  },
  {
   "cell_type": "code",
   "execution_count": 44,
   "id": "0bcbd615",
   "metadata": {},
   "outputs": [
    {
     "data": {
      "text/plain": [
       "<Axes: xlabel='Battery mAh'>"
      ]
     },
     "execution_count": 44,
     "metadata": {},
     "output_type": "execute_result"
    },
    {
     "data": {
      "image/png": "[encoded data removed]",
      "text/plain": [
       "<Figure size 1200x500 with 1 Axes>"
      ]
     },
     "metadata": {},
     "output_type": "display_data"
    }
   ],
   "source": [
    "plt.figure(figsize=(12,5))\n",
    "sns.boxplot(data=df, x=\"Battery mAh\")"
   ]
  },
  {
   "cell_type": "markdown",
   "id": "7d7b1909",
   "metadata": {},
   "source": [
    "Remove low Battery value"
   ]
  },
  {
   "cell_type": "code",
   "execution_count": 45,
   "id": "b89da8aa",
   "metadata": {},
   "outputs": [],
   "source": [
    "df = df.drop(df[df[\"Battery mAh\"]<1000].index, axis=0)"
   ]
  },
  {
   "cell_type": "code",
   "execution_count": 46,
   "id": "9c75b565",
   "metadata": {},
   "outputs": [
    {
     "data": {
      "text/plain": [
       "<Axes: xlabel='Battery mAh'>"
      ]
     },
     "execution_count": 46,
     "metadata": {},
     "output_type": "execute_result"
    },
    {
     "data": {
      "image/png": "[encoded data removed]",
      "text/plain": [
       "<Figure size 1200x500 with 1 Axes>"
      ]
     },
     "metadata": {},
     "output_type": "display_data"
    }
   ],
   "source": [
    "plt.figure(figsize=(12,5))\n",
    "sns.boxplot(data=df, x=\"Battery mAh\")"
   ]
  },
  {
   "cell_type": "markdown",
   "id": "c75ad795",
   "metadata": {},
   "source": [
    "#### Making Back/Rare Camera and Front Camera as numeric column"
   ]
  },
  {
   "cell_type": "markdown",
   "id": "0b37cdc5",
   "metadata": {},
   "source": [
    "Taking 2 first characters from row"
   ]
  },
  {
   "cell_type": "code",
   "execution_count": 47,
   "id": "3c44f3fa",
   "metadata": {},
   "outputs": [],
   "source": [
    "df[\"Front Camera\"] = df[\"Front Camera\"].str[:2]\n",
    "df[\"Back/Rare Camera\"] = df[\"Back/Rare Camera\"].str[:2]"
   ]
  },
  {
   "cell_type": "markdown",
   "id": "e2b513a1",
   "metadata": {},
   "source": [
    "Removing letters"
   ]
  },
  {
   "cell_type": "code",
   "execution_count": 48,
   "id": "b5a3ca09",
   "metadata": {},
   "outputs": [],
   "source": [
    "df[\"Front Camera\"] = df[\"Front Camera\"].str.replace('\\D', '', regex=True)\n",
    "df[\"Back/Rare Camera\"] = df[\"Back/Rare Camera\"].str.replace('\\D', '', regex=True)"
   ]
  },
  {
   "cell_type": "code",
   "execution_count": 49,
   "id": "13065a88",
   "metadata": {},
   "outputs": [],
   "source": [
    "df = df.rename(columns={\"Front Camera\":\"Front Camera MP\",\"Back/Rare Camera\":\"Back/Rare Camera MP\" })"
   ]
  },
  {
   "cell_type": "code",
   "execution_count": 50,
   "id": "d361abdf",
   "metadata": {},
   "outputs": [],
   "source": [
    "df = df.astype({\"Back/Rare Camera MP\":\"int\",  \"Front Camera MP\":\"int\",  })"
   ]
  },
  {
   "cell_type": "markdown",
   "id": "ee413568",
   "metadata": {},
   "source": [
    "#### Making Price in INR as numeric column"
   ]
  },
  {
   "cell_type": "code",
   "execution_count": 51,
   "id": "50a4e2a3",
   "metadata": {},
   "outputs": [],
   "source": [
    "df[\"Price in INR\"] = df[\"Price in INR\"].str.replace('\\D', '', regex=True)"
   ]
  },
  {
   "cell_type": "code",
   "execution_count": 52,
   "id": "54983035",
   "metadata": {},
   "outputs": [],
   "source": [
    "df = df.astype({\"Price in INR\":\"int\"})"
   ]
  },
  {
   "cell_type": "code",
   "execution_count": 53,
   "id": "8dbe7935",
   "metadata": {},
   "outputs": [
    {
     "name": "stdout",
     "output_type": "stream",
     "text": [
      "<class 'pandas.core.frame.DataFrame'>\n",
      "Index: 1186 entries, POCO C50 (Royal Blue, 32 GB) to Infinix S5 (Quetzal Cyan, 64 GB)\n",
      "Data columns (total 8 columns):\n",
      " #   Column               Non-Null Count  Dtype  \n",
      "---  ------               --------------  -----  \n",
      " 0   Rating ?/5           1186 non-null   float64\n",
      " 1   Number of Ratings    1186 non-null   float64\n",
      " 2   GB of RAM            1186 non-null   int32  \n",
      " 3   GB in ROM/Storage    1186 non-null   int32  \n",
      " 4   Back/Rare Camera MP  1186 non-null   int32  \n",
      " 5   Front Camera MP      1186 non-null   int32  \n",
      " 6   Battery mAh          1186 non-null   int32  \n",
      " 7   Price in INR         1186 non-null   int32  \n",
      "dtypes: float64(2), int32(6)\n",
      "memory usage: 55.6+ KB\n"
     ]
    }
   ],
   "source": [
    "df.info()"
   ]
  },
  {
   "cell_type": "markdown",
   "id": "b9923193",
   "metadata": {},
   "source": [
    "#### Changing exchange rate from IRN to EURO\n",
    "\n",
    "in 12.08.2023 1 IRN = 0.011 Euro"
   ]
  },
  {
   "cell_type": "code",
   "execution_count": 54,
   "id": "ba83dfc1",
   "metadata": {},
   "outputs": [],
   "source": [
    "df[\"Price in Euro\"] = (df[\"Price in INR\"] * 0.011).round(2)\n",
    "df = df.drop(\"Price in INR\", axis=1)"
   ]
  },
  {
   "cell_type": "markdown",
   "id": "19bcc8f7",
   "metadata": {},
   "source": [
    "### Checking Data"
   ]
  },
  {
   "cell_type": "code",
   "execution_count": 55,
   "id": "b59165cc",
   "metadata": {},
   "outputs": [
    {
     "data": {
      "text/html": [
       "<div>\n",
       "<style scoped>\n",
       "    .dataframe tbody tr th:only-of-type {\n",
       "        vertical-align: middle;\n",
       "    }\n",
       "\n",
       "    .dataframe tbody tr th {\n",
       "        vertical-align: top;\n",
       "    }\n",
       "\n",
       "    .dataframe thead th {\n",
       "        text-align: right;\n",
       "    }\n",
       "</style>\n",
       "<table border=\"1\" class=\"dataframe\">\n",
       "  <thead>\n",
       "    <tr style=\"text-align: right;\">\n",
       "      <th></th>\n",
       "      <th>Rating ?/5</th>\n",
       "      <th>Number of Ratings</th>\n",
       "      <th>GB of RAM</th>\n",
       "      <th>GB in ROM/Storage</th>\n",
       "      <th>Back/Rare Camera MP</th>\n",
       "      <th>Front Camera MP</th>\n",
       "      <th>Battery mAh</th>\n",
       "      <th>Price in Euro</th>\n",
       "    </tr>\n",
       "    <tr>\n",
       "      <th>Phone Name</th>\n",
       "      <th></th>\n",
       "      <th></th>\n",
       "      <th></th>\n",
       "      <th></th>\n",
       "      <th></th>\n",
       "      <th></th>\n",
       "      <th></th>\n",
       "      <th></th>\n",
       "    </tr>\n",
       "  </thead>\n",
       "  <tbody>\n",
       "    <tr>\n",
       "      <th>POCO C50 (Royal Blue, 32 GB)</th>\n",
       "      <td>4.2</td>\n",
       "      <td>33561.0</td>\n",
       "      <td>2</td>\n",
       "      <td>32</td>\n",
       "      <td>8</td>\n",
       "      <td>5</td>\n",
       "      <td>5000</td>\n",
       "      <td>62.14</td>\n",
       "    </tr>\n",
       "    <tr>\n",
       "      <th>POCO M4 5G (Cool Blue, 64 GB)</th>\n",
       "      <td>4.2</td>\n",
       "      <td>77128.0</td>\n",
       "      <td>4</td>\n",
       "      <td>64</td>\n",
       "      <td>50</td>\n",
       "      <td>8</td>\n",
       "      <td>5000</td>\n",
       "      <td>131.99</td>\n",
       "    </tr>\n",
       "    <tr>\n",
       "      <th>POCO C51 (Royal Blue, 64 GB)</th>\n",
       "      <td>4.3</td>\n",
       "      <td>15175.0</td>\n",
       "      <td>4</td>\n",
       "      <td>64</td>\n",
       "      <td>8</td>\n",
       "      <td>5</td>\n",
       "      <td>5000</td>\n",
       "      <td>76.99</td>\n",
       "    </tr>\n",
       "    <tr>\n",
       "      <th>POCO C55 (Cool Blue, 64 GB)</th>\n",
       "      <td>4.2</td>\n",
       "      <td>22621.0</td>\n",
       "      <td>4</td>\n",
       "      <td>64</td>\n",
       "      <td>50</td>\n",
       "      <td>5</td>\n",
       "      <td>5000</td>\n",
       "      <td>85.24</td>\n",
       "    </tr>\n",
       "    <tr>\n",
       "      <th>POCO C51 (Power Black, 64 GB)</th>\n",
       "      <td>4.3</td>\n",
       "      <td>15175.0</td>\n",
       "      <td>4</td>\n",
       "      <td>64</td>\n",
       "      <td>8</td>\n",
       "      <td>5</td>\n",
       "      <td>5000</td>\n",
       "      <td>76.99</td>\n",
       "    </tr>\n",
       "    <tr>\n",
       "      <th>...</th>\n",
       "      <td>...</td>\n",
       "      <td>...</td>\n",
       "      <td>...</td>\n",
       "      <td>...</td>\n",
       "      <td>...</td>\n",
       "      <td>...</td>\n",
       "      <td>...</td>\n",
       "      <td>...</td>\n",
       "    </tr>\n",
       "    <tr>\n",
       "      <th>Infinix Note 7 (Forest Green, 64 GB)</th>\n",
       "      <td>4.3</td>\n",
       "      <td>25582.0</td>\n",
       "      <td>4</td>\n",
       "      <td>64</td>\n",
       "      <td>48</td>\n",
       "      <td>16</td>\n",
       "      <td>5000</td>\n",
       "      <td>164.99</td>\n",
       "    </tr>\n",
       "    <tr>\n",
       "      <th>Infinix Note 7 (Bolivia Blue, 64 GB)</th>\n",
       "      <td>4.3</td>\n",
       "      <td>25582.0</td>\n",
       "      <td>4</td>\n",
       "      <td>64</td>\n",
       "      <td>48</td>\n",
       "      <td>16</td>\n",
       "      <td>5000</td>\n",
       "      <td>164.99</td>\n",
       "    </tr>\n",
       "    <tr>\n",
       "      <th>Infinix Note 7 (Aether Black, 64 GB)</th>\n",
       "      <td>4.3</td>\n",
       "      <td>25582.0</td>\n",
       "      <td>4</td>\n",
       "      <td>64</td>\n",
       "      <td>48</td>\n",
       "      <td>16</td>\n",
       "      <td>5000</td>\n",
       "      <td>164.99</td>\n",
       "    </tr>\n",
       "    <tr>\n",
       "      <th>Infinix Zero 8i (Silver Diamond, 128 GB)</th>\n",
       "      <td>4.2</td>\n",
       "      <td>7117.0</td>\n",
       "      <td>8</td>\n",
       "      <td>128</td>\n",
       "      <td>48</td>\n",
       "      <td>16</td>\n",
       "      <td>4500</td>\n",
       "      <td>208.99</td>\n",
       "    </tr>\n",
       "    <tr>\n",
       "      <th>Infinix S5 (Quetzal Cyan, 64 GB)</th>\n",
       "      <td>4.3</td>\n",
       "      <td>15701.0</td>\n",
       "      <td>4</td>\n",
       "      <td>64</td>\n",
       "      <td>16</td>\n",
       "      <td>32</td>\n",
       "      <td>4000</td>\n",
       "      <td>120.99</td>\n",
       "    </tr>\n",
       "  </tbody>\n",
       "</table>\n",
       "<p>1186 rows × 8 columns</p>\n",
       "</div>"
      ],
      "text/plain": [
       "                                          Rating ?/5  Number of Ratings  \\\n",
       "Phone Name                                                                \n",
       "POCO C50 (Royal Blue, 32 GB)                     4.2            33561.0   \n",
       "POCO M4 5G (Cool Blue, 64 GB)                    4.2            77128.0   \n",
       "POCO C51 (Royal Blue, 64 GB)                     4.3            15175.0   \n",
       "POCO C55 (Cool Blue, 64 GB)                      4.2            22621.0   \n",
       "POCO C51 (Power Black, 64 GB)                    4.3            15175.0   \n",
       "...                                              ...                ...   \n",
       "Infinix Note 7 (Forest Green, 64 GB)             4.3            25582.0   \n",
       "Infinix Note 7 (Bolivia Blue, 64 GB)             4.3            25582.0   \n",
       "Infinix Note 7 (Aether Black, 64 GB)             4.3            25582.0   \n",
       "Infinix Zero 8i (Silver Diamond, 128 GB)         4.2             7117.0   \n",
       "Infinix S5 (Quetzal Cyan, 64 GB)                 4.3            15701.0   \n",
       "\n",
       "                                          GB of RAM  GB in ROM/Storage  \\\n",
       "Phone Name                                                               \n",
       "POCO C50 (Royal Blue, 32 GB)                      2                 32   \n",
       "POCO M4 5G (Cool Blue, 64 GB)                     4                 64   \n",
       "POCO C51 (Royal Blue, 64 GB)                      4                 64   \n",
       "POCO C55 (Cool Blue, 64 GB)                       4                 64   \n",
       "POCO C51 (Power Black, 64 GB)                     4                 64   \n",
       "...                                             ...                ...   \n",
       "Infinix Note 7 (Forest Green, 64 GB)              4                 64   \n",
       "Infinix Note 7 (Bolivia Blue, 64 GB)              4                 64   \n",
       "Infinix Note 7 (Aether Black, 64 GB)              4                 64   \n",
       "Infinix Zero 8i (Silver Diamond, 128 GB)          8                128   \n",
       "Infinix S5 (Quetzal Cyan, 64 GB)                  4                 64   \n",
       "\n",
       "                                          Back/Rare Camera MP  \\\n",
       "Phone Name                                                      \n",
       "POCO C50 (Royal Blue, 32 GB)                                8   \n",
       "POCO M4 5G (Cool Blue, 64 GB)                              50   \n",
       "POCO C51 (Royal Blue, 64 GB)                                8   \n",
       "POCO C55 (Cool Blue, 64 GB)                                50   \n",
       "POCO C51 (Power Black, 64 GB)                               8   \n",
       "...                                                       ...   \n",
       "Infinix Note 7 (Forest Green, 64 GB)                       48   \n",
       "Infinix Note 7 (Bolivia Blue, 64 GB)                       48   \n",
       "Infinix Note 7 (Aether Black, 64 GB)                       48   \n",
       "Infinix Zero 8i (Silver Diamond, 128 GB)                   48   \n",
       "Infinix S5 (Quetzal Cyan, 64 GB)                           16   \n",
       "\n",
       "                                          Front Camera MP  Battery mAh  \\\n",
       "Phone Name                                                               \n",
       "POCO C50 (Royal Blue, 32 GB)                            5         5000   \n",
       "POCO M4 5G (Cool Blue, 64 GB)                           8         5000   \n",
       "POCO C51 (Royal Blue, 64 GB)                            5         5000   \n",
       "POCO C55 (Cool Blue, 64 GB)                             5         5000   \n",
       "POCO C51 (Power Black, 64 GB)                           5         5000   \n",
       "...                                                   ...          ...   \n",
       "Infinix Note 7 (Forest Green, 64 GB)                   16         5000   \n",
       "Infinix Note 7 (Bolivia Blue, 64 GB)                   16         5000   \n",
       "Infinix Note 7 (Aether Black, 64 GB)                   16         5000   \n",
       "Infinix Zero 8i (Silver Diamond, 128 GB)               16         4500   \n",
       "Infinix S5 (Quetzal Cyan, 64 GB)                       32         4000   \n",
       "\n",
       "                                          Price in Euro  \n",
       "Phone Name                                               \n",
       "POCO C50 (Royal Blue, 32 GB)                      62.14  \n",
       "POCO M4 5G (Cool Blue, 64 GB)                    131.99  \n",
       "POCO C51 (Royal Blue, 64 GB)                      76.99  \n",
       "POCO C55 (Cool Blue, 64 GB)                       85.24  \n",
       "POCO C51 (Power Black, 64 GB)                     76.99  \n",
       "...                                                 ...  \n",
       "Infinix Note 7 (Forest Green, 64 GB)             164.99  \n",
       "Infinix Note 7 (Bolivia Blue, 64 GB)             164.99  \n",
       "Infinix Note 7 (Aether Black, 64 GB)             164.99  \n",
       "Infinix Zero 8i (Silver Diamond, 128 GB)         208.99  \n",
       "Infinix S5 (Quetzal Cyan, 64 GB)                 120.99  \n",
       "\n",
       "[1186 rows x 8 columns]"
      ]
     },
     "execution_count": 55,
     "metadata": {},
     "output_type": "execute_result"
    }
   ],
   "source": [
    "df"
   ]
  },
  {
   "cell_type": "code",
   "execution_count": 56,
   "id": "e8b4a578",
   "metadata": {},
   "outputs": [
    {
     "data": {
      "text/html": [
       "<div>\n",
       "<style scoped>\n",
       "    .dataframe tbody tr th:only-of-type {\n",
       "        vertical-align: middle;\n",
       "    }\n",
       "\n",
       "    .dataframe tbody tr th {\n",
       "        vertical-align: top;\n",
       "    }\n",
       "\n",
       "    .dataframe thead th {\n",
       "        text-align: right;\n",
       "    }\n",
       "</style>\n",
       "<table border=\"1\" class=\"dataframe\">\n",
       "  <thead>\n",
       "    <tr style=\"text-align: right;\">\n",
       "      <th></th>\n",
       "      <th>Rating ?/5</th>\n",
       "      <th>Number of Ratings</th>\n",
       "      <th>GB of RAM</th>\n",
       "      <th>GB in ROM/Storage</th>\n",
       "      <th>Back/Rare Camera MP</th>\n",
       "      <th>Front Camera MP</th>\n",
       "      <th>Battery mAh</th>\n",
       "      <th>Price in Euro</th>\n",
       "    </tr>\n",
       "  </thead>\n",
       "  <tbody>\n",
       "    <tr>\n",
       "      <th>Rating ?/5</th>\n",
       "      <td>1.000000</td>\n",
       "      <td>0.231468</td>\n",
       "      <td>0.116812</td>\n",
       "      <td>0.125731</td>\n",
       "      <td>0.100949</td>\n",
       "      <td>0.147200</td>\n",
       "      <td>0.046190</td>\n",
       "      <td>0.163021</td>\n",
       "    </tr>\n",
       "    <tr>\n",
       "      <th>Number of Ratings</th>\n",
       "      <td>0.231468</td>\n",
       "      <td>1.000000</td>\n",
       "      <td>-0.286304</td>\n",
       "      <td>-0.272825</td>\n",
       "      <td>-0.129289</td>\n",
       "      <td>-0.055876</td>\n",
       "      <td>-0.002221</td>\n",
       "      <td>-0.236582</td>\n",
       "    </tr>\n",
       "    <tr>\n",
       "      <th>GB of RAM</th>\n",
       "      <td>0.116812</td>\n",
       "      <td>-0.286304</td>\n",
       "      <td>1.000000</td>\n",
       "      <td>0.824572</td>\n",
       "      <td>0.506253</td>\n",
       "      <td>0.410224</td>\n",
       "      <td>0.082018</td>\n",
       "      <td>0.678678</td>\n",
       "    </tr>\n",
       "    <tr>\n",
       "      <th>GB in ROM/Storage</th>\n",
       "      <td>0.125731</td>\n",
       "      <td>-0.272825</td>\n",
       "      <td>0.824572</td>\n",
       "      <td>1.000000</td>\n",
       "      <td>0.432389</td>\n",
       "      <td>0.339131</td>\n",
       "      <td>0.093912</td>\n",
       "      <td>0.697698</td>\n",
       "    </tr>\n",
       "    <tr>\n",
       "      <th>Back/Rare Camera MP</th>\n",
       "      <td>0.100949</td>\n",
       "      <td>-0.129289</td>\n",
       "      <td>0.506253</td>\n",
       "      <td>0.432389</td>\n",
       "      <td>1.000000</td>\n",
       "      <td>0.275778</td>\n",
       "      <td>0.222110</td>\n",
       "      <td>0.247359</td>\n",
       "    </tr>\n",
       "    <tr>\n",
       "      <th>Front Camera MP</th>\n",
       "      <td>0.147200</td>\n",
       "      <td>-0.055876</td>\n",
       "      <td>0.410224</td>\n",
       "      <td>0.339131</td>\n",
       "      <td>0.275778</td>\n",
       "      <td>1.000000</td>\n",
       "      <td>-0.119062</td>\n",
       "      <td>0.304417</td>\n",
       "    </tr>\n",
       "    <tr>\n",
       "      <th>Battery mAh</th>\n",
       "      <td>0.046190</td>\n",
       "      <td>-0.002221</td>\n",
       "      <td>0.082018</td>\n",
       "      <td>0.093912</td>\n",
       "      <td>0.222110</td>\n",
       "      <td>-0.119062</td>\n",
       "      <td>1.000000</td>\n",
       "      <td>-0.137245</td>\n",
       "    </tr>\n",
       "    <tr>\n",
       "      <th>Price in Euro</th>\n",
       "      <td>0.163021</td>\n",
       "      <td>-0.236582</td>\n",
       "      <td>0.678678</td>\n",
       "      <td>0.697698</td>\n",
       "      <td>0.247359</td>\n",
       "      <td>0.304417</td>\n",
       "      <td>-0.137245</td>\n",
       "      <td>1.000000</td>\n",
       "    </tr>\n",
       "  </tbody>\n",
       "</table>\n",
       "</div>"
      ],
      "text/plain": [
       "                     Rating ?/5  Number of Ratings  GB of RAM  \\\n",
       "Rating ?/5             1.000000           0.231468   0.116812   \n",
       "Number of Ratings      0.231468           1.000000  -0.286304   \n",
       "GB of RAM              0.116812          -0.286304   1.000000   \n",
       "GB in ROM/Storage      0.125731          -0.272825   0.824572   \n",
       "Back/Rare Camera MP    0.100949          -0.129289   0.506253   \n",
       "Front Camera MP        0.147200          -0.055876   0.410224   \n",
       "Battery mAh            0.046190          -0.002221   0.082018   \n",
       "Price in Euro          0.163021          -0.236582   0.678678   \n",
       "\n",
       "                     GB in ROM/Storage  Back/Rare Camera MP  Front Camera MP  \\\n",
       "Rating ?/5                    0.125731             0.100949         0.147200   \n",
       "Number of Ratings            -0.272825            -0.129289        -0.055876   \n",
       "GB of RAM                     0.824572             0.506253         0.410224   \n",
       "GB in ROM/Storage             1.000000             0.432389         0.339131   \n",
       "Back/Rare Camera MP           0.432389             1.000000         0.275778   \n",
       "Front Camera MP               0.339131             0.275778         1.000000   \n",
       "Battery mAh                   0.093912             0.222110        -0.119062   \n",
       "Price in Euro                 0.697698             0.247359         0.304417   \n",
       "\n",
       "                     Battery mAh  Price in Euro  \n",
       "Rating ?/5              0.046190       0.163021  \n",
       "Number of Ratings      -0.002221      -0.236582  \n",
       "GB of RAM               0.082018       0.678678  \n",
       "GB in ROM/Storage       0.093912       0.697698  \n",
       "Back/Rare Camera MP     0.222110       0.247359  \n",
       "Front Camera MP        -0.119062       0.304417  \n",
       "Battery mAh             1.000000      -0.137245  \n",
       "Price in Euro          -0.137245       1.000000  "
      ]
     },
     "execution_count": 56,
     "metadata": {},
     "output_type": "execute_result"
    }
   ],
   "source": [
    "df.corr()"
   ]
  },
  {
   "cell_type": "markdown",
   "id": "42d1a697",
   "metadata": {},
   "source": [
    "Drop column Number of Rating because almost every where have nagative correlation"
   ]
  },
  {
   "cell_type": "code",
   "execution_count": 57,
   "id": "0cef19fc",
   "metadata": {},
   "outputs": [],
   "source": [
    "df = df.drop(\"Number of Ratings\", axis=1)"
   ]
  },
  {
   "cell_type": "code",
   "execution_count": 58,
   "id": "4c1b2947",
   "metadata": {},
   "outputs": [
    {
     "data": {
      "text/html": [
       "<div>\n",
       "<style scoped>\n",
       "    .dataframe tbody tr th:only-of-type {\n",
       "        vertical-align: middle;\n",
       "    }\n",
       "\n",
       "    .dataframe tbody tr th {\n",
       "        vertical-align: top;\n",
       "    }\n",
       "\n",
       "    .dataframe thead th {\n",
       "        text-align: right;\n",
       "    }\n",
       "</style>\n",
       "<table border=\"1\" class=\"dataframe\">\n",
       "  <thead>\n",
       "    <tr style=\"text-align: right;\">\n",
       "      <th></th>\n",
       "      <th>Rating ?/5</th>\n",
       "      <th>GB of RAM</th>\n",
       "      <th>GB in ROM/Storage</th>\n",
       "      <th>Back/Rare Camera MP</th>\n",
       "      <th>Front Camera MP</th>\n",
       "      <th>Battery mAh</th>\n",
       "      <th>Price in Euro</th>\n",
       "    </tr>\n",
       "    <tr>\n",
       "      <th>Phone Name</th>\n",
       "      <th></th>\n",
       "      <th></th>\n",
       "      <th></th>\n",
       "      <th></th>\n",
       "      <th></th>\n",
       "      <th></th>\n",
       "      <th></th>\n",
       "    </tr>\n",
       "  </thead>\n",
       "  <tbody>\n",
       "    <tr>\n",
       "      <th>POCO C50 (Royal Blue, 32 GB)</th>\n",
       "      <td>4.2</td>\n",
       "      <td>2</td>\n",
       "      <td>32</td>\n",
       "      <td>8</td>\n",
       "      <td>5</td>\n",
       "      <td>5000</td>\n",
       "      <td>62.14</td>\n",
       "    </tr>\n",
       "    <tr>\n",
       "      <th>POCO M4 5G (Cool Blue, 64 GB)</th>\n",
       "      <td>4.2</td>\n",
       "      <td>4</td>\n",
       "      <td>64</td>\n",
       "      <td>50</td>\n",
       "      <td>8</td>\n",
       "      <td>5000</td>\n",
       "      <td>131.99</td>\n",
       "    </tr>\n",
       "    <tr>\n",
       "      <th>POCO C51 (Royal Blue, 64 GB)</th>\n",
       "      <td>4.3</td>\n",
       "      <td>4</td>\n",
       "      <td>64</td>\n",
       "      <td>8</td>\n",
       "      <td>5</td>\n",
       "      <td>5000</td>\n",
       "      <td>76.99</td>\n",
       "    </tr>\n",
       "    <tr>\n",
       "      <th>POCO C55 (Cool Blue, 64 GB)</th>\n",
       "      <td>4.2</td>\n",
       "      <td>4</td>\n",
       "      <td>64</td>\n",
       "      <td>50</td>\n",
       "      <td>5</td>\n",
       "      <td>5000</td>\n",
       "      <td>85.24</td>\n",
       "    </tr>\n",
       "    <tr>\n",
       "      <th>POCO C51 (Power Black, 64 GB)</th>\n",
       "      <td>4.3</td>\n",
       "      <td>4</td>\n",
       "      <td>64</td>\n",
       "      <td>8</td>\n",
       "      <td>5</td>\n",
       "      <td>5000</td>\n",
       "      <td>76.99</td>\n",
       "    </tr>\n",
       "    <tr>\n",
       "      <th>...</th>\n",
       "      <td>...</td>\n",
       "      <td>...</td>\n",
       "      <td>...</td>\n",
       "      <td>...</td>\n",
       "      <td>...</td>\n",
       "      <td>...</td>\n",
       "      <td>...</td>\n",
       "    </tr>\n",
       "    <tr>\n",
       "      <th>Infinix Note 7 (Forest Green, 64 GB)</th>\n",
       "      <td>4.3</td>\n",
       "      <td>4</td>\n",
       "      <td>64</td>\n",
       "      <td>48</td>\n",
       "      <td>16</td>\n",
       "      <td>5000</td>\n",
       "      <td>164.99</td>\n",
       "    </tr>\n",
       "    <tr>\n",
       "      <th>Infinix Note 7 (Bolivia Blue, 64 GB)</th>\n",
       "      <td>4.3</td>\n",
       "      <td>4</td>\n",
       "      <td>64</td>\n",
       "      <td>48</td>\n",
       "      <td>16</td>\n",
       "      <td>5000</td>\n",
       "      <td>164.99</td>\n",
       "    </tr>\n",
       "    <tr>\n",
       "      <th>Infinix Note 7 (Aether Black, 64 GB)</th>\n",
       "      <td>4.3</td>\n",
       "      <td>4</td>\n",
       "      <td>64</td>\n",
       "      <td>48</td>\n",
       "      <td>16</td>\n",
       "      <td>5000</td>\n",
       "      <td>164.99</td>\n",
       "    </tr>\n",
       "    <tr>\n",
       "      <th>Infinix Zero 8i (Silver Diamond, 128 GB)</th>\n",
       "      <td>4.2</td>\n",
       "      <td>8</td>\n",
       "      <td>128</td>\n",
       "      <td>48</td>\n",
       "      <td>16</td>\n",
       "      <td>4500</td>\n",
       "      <td>208.99</td>\n",
       "    </tr>\n",
       "    <tr>\n",
       "      <th>Infinix S5 (Quetzal Cyan, 64 GB)</th>\n",
       "      <td>4.3</td>\n",
       "      <td>4</td>\n",
       "      <td>64</td>\n",
       "      <td>16</td>\n",
       "      <td>32</td>\n",
       "      <td>4000</td>\n",
       "      <td>120.99</td>\n",
       "    </tr>\n",
       "  </tbody>\n",
       "</table>\n",
       "<p>1186 rows × 7 columns</p>\n",
       "</div>"
      ],
      "text/plain": [
       "                                          Rating ?/5  GB of RAM  \\\n",
       "Phone Name                                                        \n",
       "POCO C50 (Royal Blue, 32 GB)                     4.2          2   \n",
       "POCO M4 5G (Cool Blue, 64 GB)                    4.2          4   \n",
       "POCO C51 (Royal Blue, 64 GB)                     4.3          4   \n",
       "POCO C55 (Cool Blue, 64 GB)                      4.2          4   \n",
       "POCO C51 (Power Black, 64 GB)                    4.3          4   \n",
       "...                                              ...        ...   \n",
       "Infinix Note 7 (Forest Green, 64 GB)             4.3          4   \n",
       "Infinix Note 7 (Bolivia Blue, 64 GB)             4.3          4   \n",
       "Infinix Note 7 (Aether Black, 64 GB)             4.3          4   \n",
       "Infinix Zero 8i (Silver Diamond, 128 GB)         4.2          8   \n",
       "Infinix S5 (Quetzal Cyan, 64 GB)                 4.3          4   \n",
       "\n",
       "                                          GB in ROM/Storage  \\\n",
       "Phone Name                                                    \n",
       "POCO C50 (Royal Blue, 32 GB)                             32   \n",
       "POCO M4 5G (Cool Blue, 64 GB)                            64   \n",
       "POCO C51 (Royal Blue, 64 GB)                             64   \n",
       "POCO C55 (Cool Blue, 64 GB)                              64   \n",
       "POCO C51 (Power Black, 64 GB)                            64   \n",
       "...                                                     ...   \n",
       "Infinix Note 7 (Forest Green, 64 GB)                     64   \n",
       "Infinix Note 7 (Bolivia Blue, 64 GB)                     64   \n",
       "Infinix Note 7 (Aether Black, 64 GB)                     64   \n",
       "Infinix Zero 8i (Silver Diamond, 128 GB)                128   \n",
       "Infinix S5 (Quetzal Cyan, 64 GB)                         64   \n",
       "\n",
       "                                          Back/Rare Camera MP  \\\n",
       "Phone Name                                                      \n",
       "POCO C50 (Royal Blue, 32 GB)                                8   \n",
       "POCO M4 5G (Cool Blue, 64 GB)                              50   \n",
       "POCO C51 (Royal Blue, 64 GB)                                8   \n",
       "POCO C55 (Cool Blue, 64 GB)                                50   \n",
       "POCO C51 (Power Black, 64 GB)                               8   \n",
       "...                                                       ...   \n",
       "Infinix Note 7 (Forest Green, 64 GB)                       48   \n",
       "Infinix Note 7 (Bolivia Blue, 64 GB)                       48   \n",
       "Infinix Note 7 (Aether Black, 64 GB)                       48   \n",
       "Infinix Zero 8i (Silver Diamond, 128 GB)                   48   \n",
       "Infinix S5 (Quetzal Cyan, 64 GB)                           16   \n",
       "\n",
       "                                          Front Camera MP  Battery mAh  \\\n",
       "Phone Name                                                               \n",
       "POCO C50 (Royal Blue, 32 GB)                            5         5000   \n",
       "POCO M4 5G (Cool Blue, 64 GB)                           8         5000   \n",
       "POCO C51 (Royal Blue, 64 GB)                            5         5000   \n",
       "POCO C55 (Cool Blue, 64 GB)                             5         5000   \n",
       "POCO C51 (Power Black, 64 GB)                           5         5000   \n",
       "...                                                   ...          ...   \n",
       "Infinix Note 7 (Forest Green, 64 GB)                   16         5000   \n",
       "Infinix Note 7 (Bolivia Blue, 64 GB)                   16         5000   \n",
       "Infinix Note 7 (Aether Black, 64 GB)                   16         5000   \n",
       "Infinix Zero 8i (Silver Diamond, 128 GB)               16         4500   \n",
       "Infinix S5 (Quetzal Cyan, 64 GB)                       32         4000   \n",
       "\n",
       "                                          Price in Euro  \n",
       "Phone Name                                               \n",
       "POCO C50 (Royal Blue, 32 GB)                      62.14  \n",
       "POCO M4 5G (Cool Blue, 64 GB)                    131.99  \n",
       "POCO C51 (Royal Blue, 64 GB)                      76.99  \n",
       "POCO C55 (Cool Blue, 64 GB)                       85.24  \n",
       "POCO C51 (Power Black, 64 GB)                     76.99  \n",
       "...                                                 ...  \n",
       "Infinix Note 7 (Forest Green, 64 GB)             164.99  \n",
       "Infinix Note 7 (Bolivia Blue, 64 GB)             164.99  \n",
       "Infinix Note 7 (Aether Black, 64 GB)             164.99  \n",
       "Infinix Zero 8i (Silver Diamond, 128 GB)         208.99  \n",
       "Infinix S5 (Quetzal Cyan, 64 GB)                 120.99  \n",
       "\n",
       "[1186 rows x 7 columns]"
      ]
     },
     "execution_count": 58,
     "metadata": {},
     "output_type": "execute_result"
    }
   ],
   "source": [
    "df"
   ]
  },
  {
   "cell_type": "markdown",
   "id": "3cce5184",
   "metadata": {},
   "source": [
    "## Visualization"
   ]
  },
  {
   "cell_type": "code",
   "execution_count": 59,
   "id": "0bf5409e",
   "metadata": {},
   "outputs": [
    {
     "data": {
      "text/plain": [
       "<Axes: xlabel='Price in Euro', ylabel='Rating ?/5'>"
      ]
     },
     "execution_count": 59,
     "metadata": {},
     "output_type": "execute_result"
    },
    {
     "data": {
      "image/png": "[encoded data removed]",
      "text/plain": [
       "<Figure size 640x480 with 1 Axes>"
      ]
     },
     "metadata": {},
     "output_type": "display_data"
    }
   ],
   "source": [
    "sns.scatterplot(data=df, x=\"Price in Euro\", y=\"Rating ?/5\")"
   ]
  },
  {
   "cell_type": "code",
   "execution_count": 60,
   "id": "41015883",
   "metadata": {},
   "outputs": [
    {
     "data": {
      "text/plain": [
       "26"
      ]
     },
     "execution_count": 60,
     "metadata": {},
     "output_type": "execute_result"
    }
   ],
   "source": [
    "len(df[df[\"Price in Euro\"]>700])"
   ]
  },
  {
   "cell_type": "markdown",
   "id": "f26d033f",
   "metadata": {},
   "source": [
    "Dropping phones over 700 euro, in future model will not be able to predict phone which will be cost more then 700 euro"
   ]
  },
  {
   "cell_type": "code",
   "execution_count": 61,
   "id": "023b7fca",
   "metadata": {},
   "outputs": [],
   "source": [
    "df = df.drop(df[df[\"Price in Euro\"]>700].index, axis = 0)"
   ]
  },
  {
   "cell_type": "code",
   "execution_count": 62,
   "id": "6d8a459a",
   "metadata": {},
   "outputs": [
    {
     "data": {
      "text/plain": [
       "<Axes: xlabel='Price in Euro', ylabel='Rating ?/5'>"
      ]
     },
     "execution_count": 62,
     "metadata": {},
     "output_type": "execute_result"
    },
    {
     "data": {
      "image/png": "[encoded data removed]",
      "text/plain": [
       "<Figure size 640x480 with 1 Axes>"
      ]
     },
     "metadata": {},
     "output_type": "display_data"
    }
   ],
   "source": [
    "sns.scatterplot(data=df, x=\"Price in Euro\", y=\"Rating ?/5\")"
   ]
  },
  {
   "cell_type": "code",
   "execution_count": 63,
   "id": "3fc78f58",
   "metadata": {},
   "outputs": [
    {
     "data": {
      "text/html": [
       "<div>\n",
       "<style scoped>\n",
       "    .dataframe tbody tr th:only-of-type {\n",
       "        vertical-align: middle;\n",
       "    }\n",
       "\n",
       "    .dataframe tbody tr th {\n",
       "        vertical-align: top;\n",
       "    }\n",
       "\n",
       "    .dataframe thead th {\n",
       "        text-align: right;\n",
       "    }\n",
       "</style>\n",
       "<table border=\"1\" class=\"dataframe\">\n",
       "  <thead>\n",
       "    <tr style=\"text-align: right;\">\n",
       "      <th></th>\n",
       "      <th>Rating ?/5</th>\n",
       "      <th>GB of RAM</th>\n",
       "      <th>GB in ROM/Storage</th>\n",
       "      <th>Back/Rare Camera MP</th>\n",
       "      <th>Front Camera MP</th>\n",
       "      <th>Battery mAh</th>\n",
       "      <th>Price in Euro</th>\n",
       "    </tr>\n",
       "  </thead>\n",
       "  <tbody>\n",
       "    <tr>\n",
       "      <th>count</th>\n",
       "      <td>1160.00</td>\n",
       "      <td>1160.00</td>\n",
       "      <td>1160.00</td>\n",
       "      <td>1160.00</td>\n",
       "      <td>1160.00</td>\n",
       "      <td>1160.00</td>\n",
       "      <td>1160.00</td>\n",
       "    </tr>\n",
       "    <tr>\n",
       "      <th>mean</th>\n",
       "      <td>4.27</td>\n",
       "      <td>5.58</td>\n",
       "      <td>104.88</td>\n",
       "      <td>35.36</td>\n",
       "      <td>12.42</td>\n",
       "      <td>4726.85</td>\n",
       "      <td>204.60</td>\n",
       "    </tr>\n",
       "    <tr>\n",
       "      <th>std</th>\n",
       "      <td>0.16</td>\n",
       "      <td>2.54</td>\n",
       "      <td>64.44</td>\n",
       "      <td>20.81</td>\n",
       "      <td>11.16</td>\n",
       "      <td>698.49</td>\n",
       "      <td>121.75</td>\n",
       "    </tr>\n",
       "    <tr>\n",
       "      <th>min</th>\n",
       "      <td>3.40</td>\n",
       "      <td>1.00</td>\n",
       "      <td>8.00</td>\n",
       "      <td>5.00</td>\n",
       "      <td>0.00</td>\n",
       "      <td>1500.00</td>\n",
       "      <td>41.79</td>\n",
       "    </tr>\n",
       "    <tr>\n",
       "      <th>25%</th>\n",
       "      <td>4.20</td>\n",
       "      <td>4.00</td>\n",
       "      <td>64.00</td>\n",
       "      <td>13.00</td>\n",
       "      <td>5.00</td>\n",
       "      <td>4450.00</td>\n",
       "      <td>118.76</td>\n",
       "    </tr>\n",
       "    <tr>\n",
       "      <th>50%</th>\n",
       "      <td>4.30</td>\n",
       "      <td>6.00</td>\n",
       "      <td>128.00</td>\n",
       "      <td>48.00</td>\n",
       "      <td>8.00</td>\n",
       "      <td>5000.00</td>\n",
       "      <td>165.81</td>\n",
       "    </tr>\n",
       "    <tr>\n",
       "      <th>75%</th>\n",
       "      <td>4.40</td>\n",
       "      <td>8.00</td>\n",
       "      <td>128.00</td>\n",
       "      <td>50.00</td>\n",
       "      <td>16.00</td>\n",
       "      <td>5000.00</td>\n",
       "      <td>263.89</td>\n",
       "    </tr>\n",
       "    <tr>\n",
       "      <th>max</th>\n",
       "      <td>4.60</td>\n",
       "      <td>16.00</td>\n",
       "      <td>256.00</td>\n",
       "      <td>64.00</td>\n",
       "      <td>60.00</td>\n",
       "      <td>7000.00</td>\n",
       "      <td>687.50</td>\n",
       "    </tr>\n",
       "  </tbody>\n",
       "</table>\n",
       "</div>"
      ],
      "text/plain": [
       "       Rating ?/5  GB of RAM  GB in ROM/Storage  Back/Rare Camera MP  \\\n",
       "count     1160.00    1160.00            1160.00              1160.00   \n",
       "mean         4.27       5.58             104.88                35.36   \n",
       "std          0.16       2.54              64.44                20.81   \n",
       "min          3.40       1.00               8.00                 5.00   \n",
       "25%          4.20       4.00              64.00                13.00   \n",
       "50%          4.30       6.00             128.00                48.00   \n",
       "75%          4.40       8.00             128.00                50.00   \n",
       "max          4.60      16.00             256.00                64.00   \n",
       "\n",
       "       Front Camera MP  Battery mAh  Price in Euro  \n",
       "count          1160.00      1160.00        1160.00  \n",
       "mean             12.42      4726.85         204.60  \n",
       "std              11.16       698.49         121.75  \n",
       "min               0.00      1500.00          41.79  \n",
       "25%               5.00      4450.00         118.76  \n",
       "50%               8.00      5000.00         165.81  \n",
       "75%              16.00      5000.00         263.89  \n",
       "max              60.00      7000.00         687.50  "
      ]
     },
     "execution_count": 63,
     "metadata": {},
     "output_type": "execute_result"
    }
   ],
   "source": [
    "df.describe().round(2)"
   ]
  },
  {
   "cell_type": "code",
   "execution_count": 64,
   "id": "f125c1c4",
   "metadata": {},
   "outputs": [
    {
     "name": "stderr",
     "output_type": "stream",
     "text": [
      "D:\\Anaconda3\\envs\\training\\Lib\\site-packages\\seaborn\\axisgrid.py:118: UserWarning: The figure layout has changed to tight\n",
      "  self._figure.tight_layout(*args, **kwargs)\n"
     ]
    },
    {
     "data": {
      "text/plain": [
       "<seaborn.axisgrid.FacetGrid at 0x23215d3cb50>"
      ]
     },
     "execution_count": 64,
     "metadata": {},
     "output_type": "execute_result"
    },
    {
     "data": {
      "image/png": "[encoded data removed]",
      "text/plain": [
       "<Figure size 500x500 with 1 Axes>"
      ]
     },
     "metadata": {},
     "output_type": "display_data"
    }
   ],
   "source": [
    "sns.displot(data=df, x=\"Price in Euro\", bins=20)"
   ]
  },
  {
   "cell_type": "code",
   "execution_count": 65,
   "id": "c3b8df59",
   "metadata": {},
   "outputs": [
    {
     "data": {
      "text/plain": [
       "<Axes: xlabel='Rating ?/5', ylabel='count'>"
      ]
     },
     "execution_count": 65,
     "metadata": {},
     "output_type": "execute_result"
    },
    {
     "data": {
      "image/png": "[encoded data removed]",
      "text/plain": [
       "<Figure size 640x480 with 1 Axes>"
      ]
     },
     "metadata": {},
     "output_type": "display_data"
    }
   ],
   "source": [
    "sns.countplot(data=df, x=\"Rating ?/5\")"
   ]
  },
  {
   "cell_type": "code",
   "execution_count": 66,
   "id": "85cc3796",
   "metadata": {},
   "outputs": [
    {
     "data": {
      "text/plain": [
       "<Axes: xlabel='GB of RAM', ylabel='count'>"
      ]
     },
     "execution_count": 66,
     "metadata": {},
     "output_type": "execute_result"
    },
    {
     "data": {
      "image/png": "[encoded data removed]",
      "text/plain": [
       "<Figure size 640x480 with 1 Axes>"
      ]
     },
     "metadata": {},
     "output_type": "display_data"
    }
   ],
   "source": [
    "sns.countplot(data=df, x=\"GB of RAM\")"
   ]
  },
  {
   "cell_type": "code",
   "execution_count": 67,
   "id": "46ef405a",
   "metadata": {},
   "outputs": [
    {
     "data": {
      "text/plain": [
       "<Axes: xlabel='GB in ROM/Storage', ylabel='count'>"
      ]
     },
     "execution_count": 67,
     "metadata": {},
     "output_type": "execute_result"
    },
    {
     "data": {
      "image/png": "[encoded data removed]",
      "text/plain": [
       "<Figure size 640x480 with 1 Axes>"
      ]
     },
     "metadata": {},
     "output_type": "display_data"
    }
   ],
   "source": [
    "sns.countplot(data=df, x=\"GB in ROM/Storage\")"
   ]
  },
  {
   "cell_type": "code",
   "execution_count": 68,
   "id": "5557b5c7",
   "metadata": {},
   "outputs": [
    {
     "data": {
      "text/plain": [
       "<Axes: xlabel='Back/Rare Camera MP', ylabel='count'>"
      ]
     },
     "execution_count": 68,
     "metadata": {},
     "output_type": "execute_result"
    },
    {
     "data": {
      "image/png": "[encoded data removed]",
      "text/plain": [
       "<Figure size 640x480 with 1 Axes>"
      ]
     },
     "metadata": {},
     "output_type": "display_data"
    }
   ],
   "source": [
    "sns.countplot(data=df, x=\"Back/Rare Camera MP\")"
   ]
  },
  {
   "cell_type": "code",
   "execution_count": 69,
   "id": "4ba82964",
   "metadata": {},
   "outputs": [
    {
     "data": {
      "text/plain": [
       "<Axes: xlabel='Front Camera MP', ylabel='count'>"
      ]
     },
     "execution_count": 69,
     "metadata": {},
     "output_type": "execute_result"
    },
    {
     "data": {
      "image/png": "[encoded data removed]",
      "text/plain": [
       "<Figure size 640x480 with 1 Axes>"
      ]
     },
     "metadata": {},
     "output_type": "display_data"
    }
   ],
   "source": [
    "sns.countplot(data=df, x=\"Front Camera MP\")"
   ]
  },
  {
   "cell_type": "code",
   "execution_count": 70,
   "id": "1dd5ebc7",
   "metadata": {},
   "outputs": [
    {
     "data": {
      "text/plain": [
       "<Axes: xlabel='Battery mAh'>"
      ]
     },
     "execution_count": 70,
     "metadata": {},
     "output_type": "execute_result"
    },
    {
     "data": {
      "image/png": "[encoded data removed]",
      "text/plain": [
       "<Figure size 640x480 with 1 Axes>"
      ]
     },
     "metadata": {},
     "output_type": "display_data"
    }
   ],
   "source": [
    "sns.boxplot(data=df, x=\"Battery mAh\")"
   ]
  },
  {
   "cell_type": "markdown",
   "id": "a1cf863d",
   "metadata": {},
   "source": [
    "## Linear Regression"
   ]
  },
  {
   "cell_type": "markdown",
   "id": "8d3029ba",
   "metadata": {},
   "source": [
    "Im gonna predict price of phone base of all available features"
   ]
  },
  {
   "cell_type": "markdown",
   "id": "cac76016",
   "metadata": {},
   "source": [
    "### Split and standarize data"
   ]
  },
  {
   "cell_type": "code",
   "execution_count": 71,
   "id": "076d10f1",
   "metadata": {},
   "outputs": [],
   "source": [
    "X = df.drop(\"Price in Euro\", axis=1)\n",
    "y = df[\"Price in Euro\"]"
   ]
  },
  {
   "cell_type": "code",
   "execution_count": 72,
   "id": "051d7b52",
   "metadata": {},
   "outputs": [],
   "source": [
    "from sklearn.model_selection import train_test_split"
   ]
  },
  {
   "cell_type": "code",
   "execution_count": 73,
   "id": "405016a0",
   "metadata": {},
   "outputs": [],
   "source": [
    "X_train, X_test, y_train, y_test = train_test_split(X, y, test_size=0.2, random_state=8)"
   ]
  },
  {
   "cell_type": "code",
   "execution_count": 74,
   "id": "a232cd50",
   "metadata": {},
   "outputs": [],
   "source": [
    "from sklearn.preprocessing import StandardScaler"
   ]
  },
  {
   "cell_type": "code",
   "execution_count": 75,
   "id": "48e0297f",
   "metadata": {},
   "outputs": [],
   "source": [
    "# it will be use for almost every method\n",
    "scaler = StandardScaler()"
   ]
  },
  {
   "cell_type": "code",
   "execution_count": 76,
   "id": "496b9188",
   "metadata": {},
   "outputs": [
    {
     "data": {
      "text/html": [
       "<style>#sk-container-id-1 {color: black;}#sk-container-id-1 pre{padding: 0;}#sk-container-id-1 div.sk-toggleable {background-color: white;}#sk-container-id-1 label.sk-toggleable__label {cursor: pointer;display: block;width: 100%;margin-bottom: 0;padding: 0.3em;box-sizing: border-box;text-align: center;}#sk-container-id-1 label.sk-toggleable__label-arrow:before {content: \"▸\";float: left;margin-right: 0.25em;color: #696969;}#sk-container-id-1 label.sk-toggleable__label-arrow:hover:before {color: black;}#sk-container-id-1 div.sk-estimator:hover label.sk-toggleable__label-arrow:before {color: black;}#sk-container-id-1 div.sk-toggleable__content {max-height: 0;max-width: 0;overflow: hidden;text-align: left;background-color: #f0f8ff;}#sk-container-id-1 div.sk-toggleable__content pre {margin: 0.2em;color: black;border-radius: 0.25em;background-color: #f0f8ff;}#sk-container-id-1 input.sk-toggleable__control:checked~div.sk-toggleable__content {max-height: 200px;max-width: 100%;overflow: auto;}#sk-container-id-1 input.sk-toggleable__control:checked~label.sk-toggleable__label-arrow:before {content: \"▾\";}#sk-container-id-1 div.sk-estimator input.sk-toggleable__control:checked~label.sk-toggleable__label {background-color: #d4ebff;}#sk-container-id-1 div.sk-label input.sk-toggleable__control:checked~label.sk-toggleable__label {background-color: #d4ebff;}#sk-container-id-1 input.sk-hidden--visually {border: 0;clip: rect(1px 1px 1px 1px);clip: rect(1px, 1px, 1px, 1px);height: 1px;margin: -1px;overflow: hidden;padding: 0;position: absolute;width: 1px;}#sk-container-id-1 div.sk-estimator {font-family: monospace;background-color: #f0f8ff;border: 1px dotted black;border-radius: 0.25em;box-sizing: border-box;margin-bottom: 0.5em;}#sk-container-id-1 div.sk-estimator:hover {background-color: #d4ebff;}#sk-container-id-1 div.sk-parallel-item::after {content: \"\";width: 100%;border-bottom: 1px solid gray;flex-grow: 1;}#sk-container-id-1 div.sk-label:hover label.sk-toggleable__label {background-color: #d4ebff;}#sk-container-id-1 div.sk-serial::before {content: \"\";position: absolute;border-left: 1px solid gray;box-sizing: border-box;top: 0;bottom: 0;left: 50%;z-index: 0;}#sk-container-id-1 div.sk-serial {display: flex;flex-direction: column;align-items: center;background-color: white;padding-right: 0.2em;padding-left: 0.2em;position: relative;}#sk-container-id-1 div.sk-item {position: relative;z-index: 1;}#sk-container-id-1 div.sk-parallel {display: flex;align-items: stretch;justify-content: center;background-color: white;position: relative;}#sk-container-id-1 div.sk-item::before, #sk-container-id-1 div.sk-parallel-item::before {content: \"\";position: absolute;border-left: 1px solid gray;box-sizing: border-box;top: 0;bottom: 0;left: 50%;z-index: -1;}#sk-container-id-1 div.sk-parallel-item {display: flex;flex-direction: column;z-index: 1;position: relative;background-color: white;}#sk-container-id-1 div.sk-parallel-item:first-child::after {align-self: flex-end;width: 50%;}#sk-container-id-1 div.sk-parallel-item:last-child::after {align-self: flex-start;width: 50%;}#sk-container-id-1 div.sk-parallel-item:only-child::after {width: 0;}#sk-container-id-1 div.sk-dashed-wrapped {border: 1px dashed gray;margin: 0 0.4em 0.5em 0.4em;box-sizing: border-box;padding-bottom: 0.4em;background-color: white;}#sk-container-id-1 div.sk-label label {font-family: monospace;font-weight: bold;display: inline-block;line-height: 1.2em;}#sk-container-id-1 div.sk-label-container {text-align: center;}#sk-container-id-1 div.sk-container {/* jupyter's `normalize.less` sets `[hidden] { display: none; }` but bootstrap.min.css set `[hidden] { display: none !important; }` so we also need the `!important` here to be able to override the default hidden behavior on the sphinx rendered scikit-learn.org. See: https://github.com/scikit-learn/scikit-learn/issues/21755 */display: inline-block !important;position: relative;}#sk-container-id-1 div.sk-text-repr-fallback {display: none;}</style><div id=\"sk-container-id-1\" class=\"sk-top-container\"><div class=\"sk-text-repr-fallback\"><pre>StandardScaler()</pre><b>In a Jupyter environment, please rerun this cell to show the HTML representation or trust the notebook. <br />On GitHub, the HTML representation is unable to render, please try loading this page with nbviewer.org.</b></div><div class=\"sk-container\" hidden><div class=\"sk-item\"><div class=\"sk-estimator sk-toggleable\"><input class=\"sk-toggleable__control sk-hidden--visually\" id=\"sk-estimator-id-1\" type=\"checkbox\" checked><label for=\"sk-estimator-id-1\" class=\"sk-toggleable__label sk-toggleable__label-arrow\">StandardScaler</label><div class=\"sk-toggleable__content\"><pre>StandardScaler()</pre></div></div></div></div></div>"
      ],
      "text/plain": [
       "StandardScaler()"
      ]
     },
     "execution_count": 76,
     "metadata": {},
     "output_type": "execute_result"
    }
   ],
   "source": [
    "scaler.fit(X_train)"
   ]
  },
  {
   "cell_type": "code",
   "execution_count": 77,
   "id": "6d6b9bf2",
   "metadata": {},
   "outputs": [],
   "source": [
    "X_train = scaler.fit_transform(X_train)\n",
    "X_test = scaler.transform(X_test)"
   ]
  },
  {
   "cell_type": "markdown",
   "id": "0198d6bf",
   "metadata": {},
   "source": [
    "### Simple Linear Regression"
   ]
  },
  {
   "cell_type": "code",
   "execution_count": 78,
   "id": "3f9e7578",
   "metadata": {},
   "outputs": [],
   "source": [
    "from sklearn.linear_model import LinearRegression"
   ]
  },
  {
   "cell_type": "code",
   "execution_count": 79,
   "id": "c9447724",
   "metadata": {},
   "outputs": [],
   "source": [
    "# it will be use for almost every method\n",
    "model = LinearRegression()"
   ]
  },
  {
   "cell_type": "code",
   "execution_count": 80,
   "id": "98912fc1",
   "metadata": {},
   "outputs": [
    {
     "data": {
      "text/html": [
       "<style>#sk-container-id-2 {color: black;}#sk-container-id-2 pre{padding: 0;}#sk-container-id-2 div.sk-toggleable {background-color: white;}#sk-container-id-2 label.sk-toggleable__label {cursor: pointer;display: block;width: 100%;margin-bottom: 0;padding: 0.3em;box-sizing: border-box;text-align: center;}#sk-container-id-2 label.sk-toggleable__label-arrow:before {content: \"▸\";float: left;margin-right: 0.25em;color: #696969;}#sk-container-id-2 label.sk-toggleable__label-arrow:hover:before {color: black;}#sk-container-id-2 div.sk-estimator:hover label.sk-toggleable__label-arrow:before {color: black;}#sk-container-id-2 div.sk-toggleable__content {max-height: 0;max-width: 0;overflow: hidden;text-align: left;background-color: #f0f8ff;}#sk-container-id-2 div.sk-toggleable__content pre {margin: 0.2em;color: black;border-radius: 0.25em;background-color: #f0f8ff;}#sk-container-id-2 input.sk-toggleable__control:checked~div.sk-toggleable__content {max-height: 200px;max-width: 100%;overflow: auto;}#sk-container-id-2 input.sk-toggleable__control:checked~label.sk-toggleable__label-arrow:before {content: \"▾\";}#sk-container-id-2 div.sk-estimator input.sk-toggleable__control:checked~label.sk-toggleable__label {background-color: #d4ebff;}#sk-container-id-2 div.sk-label input.sk-toggleable__control:checked~label.sk-toggleable__label {background-color: #d4ebff;}#sk-container-id-2 input.sk-hidden--visually {border: 0;clip: rect(1px 1px 1px 1px);clip: rect(1px, 1px, 1px, 1px);height: 1px;margin: -1px;overflow: hidden;padding: 0;position: absolute;width: 1px;}#sk-container-id-2 div.sk-estimator {font-family: monospace;background-color: #f0f8ff;border: 1px dotted black;border-radius: 0.25em;box-sizing: border-box;margin-bottom: 0.5em;}#sk-container-id-2 div.sk-estimator:hover {background-color: #d4ebff;}#sk-container-id-2 div.sk-parallel-item::after {content: \"\";width: 100%;border-bottom: 1px solid gray;flex-grow: 1;}#sk-container-id-2 div.sk-label:hover label.sk-toggleable__label {background-color: #d4ebff;}#sk-container-id-2 div.sk-serial::before {content: \"\";position: absolute;border-left: 1px solid gray;box-sizing: border-box;top: 0;bottom: 0;left: 50%;z-index: 0;}#sk-container-id-2 div.sk-serial {display: flex;flex-direction: column;align-items: center;background-color: white;padding-right: 0.2em;padding-left: 0.2em;position: relative;}#sk-container-id-2 div.sk-item {position: relative;z-index: 1;}#sk-container-id-2 div.sk-parallel {display: flex;align-items: stretch;justify-content: center;background-color: white;position: relative;}#sk-container-id-2 div.sk-item::before, #sk-container-id-2 div.sk-parallel-item::before {content: \"\";position: absolute;border-left: 1px solid gray;box-sizing: border-box;top: 0;bottom: 0;left: 50%;z-index: -1;}#sk-container-id-2 div.sk-parallel-item {display: flex;flex-direction: column;z-index: 1;position: relative;background-color: white;}#sk-container-id-2 div.sk-parallel-item:first-child::after {align-self: flex-end;width: 50%;}#sk-container-id-2 div.sk-parallel-item:last-child::after {align-self: flex-start;width: 50%;}#sk-container-id-2 div.sk-parallel-item:only-child::after {width: 0;}#sk-container-id-2 div.sk-dashed-wrapped {border: 1px dashed gray;margin: 0 0.4em 0.5em 0.4em;box-sizing: border-box;padding-bottom: 0.4em;background-color: white;}#sk-container-id-2 div.sk-label label {font-family: monospace;font-weight: bold;display: inline-block;line-height: 1.2em;}#sk-container-id-2 div.sk-label-container {text-align: center;}#sk-container-id-2 div.sk-container {/* jupyter's `normalize.less` sets `[hidden] { display: none; }` but bootstrap.min.css set `[hidden] { display: none !important; }` so we also need the `!important` here to be able to override the default hidden behavior on the sphinx rendered scikit-learn.org. See: https://github.com/scikit-learn/scikit-learn/issues/21755 */display: inline-block !important;position: relative;}#sk-container-id-2 div.sk-text-repr-fallback {display: none;}</style><div id=\"sk-container-id-2\" class=\"sk-top-container\"><div class=\"sk-text-repr-fallback\"><pre>LinearRegression()</pre><b>In a Jupyter environment, please rerun this cell to show the HTML representation or trust the notebook. <br />On GitHub, the HTML representation is unable to render, please try loading this page with nbviewer.org.</b></div><div class=\"sk-container\" hidden><div class=\"sk-item\"><div class=\"sk-estimator sk-toggleable\"><input class=\"sk-toggleable__control sk-hidden--visually\" id=\"sk-estimator-id-2\" type=\"checkbox\" checked><label for=\"sk-estimator-id-2\" class=\"sk-toggleable__label sk-toggleable__label-arrow\">LinearRegression</label><div class=\"sk-toggleable__content\"><pre>LinearRegression()</pre></div></div></div></div></div>"
      ],
      "text/plain": [
       "LinearRegression()"
      ]
     },
     "execution_count": 80,
     "metadata": {},
     "output_type": "execute_result"
    }
   ],
   "source": [
    "model.fit(X_train,  y_train)"
   ]
  },
  {
   "cell_type": "code",
   "execution_count": 81,
   "id": "0566575b",
   "metadata": {},
   "outputs": [],
   "source": [
    "test_predictions = model.predict(X_test) #y_test"
   ]
  },
  {
   "cell_type": "code",
   "execution_count": 82,
   "id": "52c49db5",
   "metadata": {},
   "outputs": [],
   "source": [
    "from sklearn.metrics import mean_squared_error, mean_absolute_error"
   ]
  },
  {
   "cell_type": "markdown",
   "id": "ac290501",
   "metadata": {},
   "source": [
    "Using loss function to get model accuracy"
   ]
  },
  {
   "attachments": {
    "formula-MAE-MSE-RMSE-RSquared.jpg": {
     "image/jpeg": "[encoded data removed]"
    }
   },
   "cell_type": "markdown",
   "id": "2ce9ebc0",
   "metadata": {},
   "source": [
    "![formula-MAE-MSE-RMSE-RSquared.jpg](attachment:formula-MAE-MSE-RMSE-RSquared.jpg)"
   ]
  },
  {
   "cell_type": "code",
   "execution_count": 83,
   "id": "32c761a4",
   "metadata": {},
   "outputs": [
    {
     "name": "stdout",
     "output_type": "stream",
     "text": [
      "MAE: 47.454, MSE: 4816.039, RMSE: 69.398\n"
     ]
    }
   ],
   "source": [
    "MAE = mean_absolute_error(y_test, test_predictions).round(3)\n",
    "MSE = mean_squared_error(y_test, test_predictions).round(3)\n",
    "RMSE = np.sqrt(mean_squared_error(y_test, test_predictions)).round(3)\n",
    "print(f\"MAE: {MAE}, MSE: {MSE}, RMSE: {RMSE}\")"
   ]
  },
  {
   "cell_type": "markdown",
   "id": "4d19c996",
   "metadata": {},
   "source": [
    "Price mean =~204.60 Euro so its not very good result"
   ]
  },
  {
   "cell_type": "code",
   "execution_count": 84,
   "id": "2d19da2a",
   "metadata": {},
   "outputs": [
    {
     "data": {
      "image/png": "[encoded data removed]",
      "text/plain": [
       "<Figure size 640x480 with 1 Axes>"
      ]
     },
     "metadata": {},
     "output_type": "display_data"
    }
   ],
   "source": [
    "sns.kdeplot(data=test_predictions, label=\"Price Predicted\")\n",
    "sns.kdeplot(data=y_test, label=\"Actual Price\")\n",
    "plt.legend();"
   ]
  },
  {
   "cell_type": "code",
   "execution_count": 85,
   "id": "2d69c87f",
   "metadata": {},
   "outputs": [],
   "source": [
    "example_phone = [[4.4, 6, 64, 48, 16, 5000]]"
   ]
  },
  {
   "cell_type": "code",
   "execution_count": 86,
   "id": "a24b5a5b",
   "metadata": {},
   "outputs": [
    {
     "data": {
      "text/plain": [
       "array([-131817.160648])"
      ]
     },
     "execution_count": 86,
     "metadata": {},
     "output_type": "execute_result"
    }
   ],
   "source": [
    "model.predict(example_phone)"
   ]
  },
  {
   "cell_type": "markdown",
   "id": "2e07f184",
   "metadata": {},
   "source": [
    "### Polynomial Regression"
   ]
  },
  {
   "attachments": {
    "633692.png": {
     "image/png": "[encoded data removed]"
    }
   },
   "cell_type": "markdown",
   "id": "823e5221",
   "metadata": {},
   "source": [
    "![633692.png](attachment:633692.png)\n",
    "https://www.analyticsvidhya.com/blog/2021/10/understanding-polynomial-regression-model/"
   ]
  },
  {
   "cell_type": "code",
   "execution_count": 87,
   "id": "86ccfa47",
   "metadata": {},
   "outputs": [],
   "source": [
    "from sklearn.preprocessing import PolynomialFeatures"
   ]
  },
  {
   "cell_type": "code",
   "execution_count": 88,
   "id": "5745bf6d",
   "metadata": {},
   "outputs": [],
   "source": [
    "poly_converter = PolynomialFeatures(degree=2, include_bias=False)"
   ]
  },
  {
   "cell_type": "code",
   "execution_count": 89,
   "id": "af992ca2",
   "metadata": {},
   "outputs": [
    {
     "data": {
      "text/html": [
       "<style>#sk-container-id-3 {color: black;}#sk-container-id-3 pre{padding: 0;}#sk-container-id-3 div.sk-toggleable {background-color: white;}#sk-container-id-3 label.sk-toggleable__label {cursor: pointer;display: block;width: 100%;margin-bottom: 0;padding: 0.3em;box-sizing: border-box;text-align: center;}#sk-container-id-3 label.sk-toggleable__label-arrow:before {content: \"▸\";float: left;margin-right: 0.25em;color: #696969;}#sk-container-id-3 label.sk-toggleable__label-arrow:hover:before {color: black;}#sk-container-id-3 div.sk-estimator:hover label.sk-toggleable__label-arrow:before {color: black;}#sk-container-id-3 div.sk-toggleable__content {max-height: 0;max-width: 0;overflow: hidden;text-align: left;background-color: #f0f8ff;}#sk-container-id-3 div.sk-toggleable__content pre {margin: 0.2em;color: black;border-radius: 0.25em;background-color: #f0f8ff;}#sk-container-id-3 input.sk-toggleable__control:checked~div.sk-toggleable__content {max-height: 200px;max-width: 100%;overflow: auto;}#sk-container-id-3 input.sk-toggleable__control:checked~label.sk-toggleable__label-arrow:before {content: \"▾\";}#sk-container-id-3 div.sk-estimator input.sk-toggleable__control:checked~label.sk-toggleable__label {background-color: #d4ebff;}#sk-container-id-3 div.sk-label input.sk-toggleable__control:checked~label.sk-toggleable__label {background-color: #d4ebff;}#sk-container-id-3 input.sk-hidden--visually {border: 0;clip: rect(1px 1px 1px 1px);clip: rect(1px, 1px, 1px, 1px);height: 1px;margin: -1px;overflow: hidden;padding: 0;position: absolute;width: 1px;}#sk-container-id-3 div.sk-estimator {font-family: monospace;background-color: #f0f8ff;border: 1px dotted black;border-radius: 0.25em;box-sizing: border-box;margin-bottom: 0.5em;}#sk-container-id-3 div.sk-estimator:hover {background-color: #d4ebff;}#sk-container-id-3 div.sk-parallel-item::after {content: \"\";width: 100%;border-bottom: 1px solid gray;flex-grow: 1;}#sk-container-id-3 div.sk-label:hover label.sk-toggleable__label {background-color: #d4ebff;}#sk-container-id-3 div.sk-serial::before {content: \"\";position: absolute;border-left: 1px solid gray;box-sizing: border-box;top: 0;bottom: 0;left: 50%;z-index: 0;}#sk-container-id-3 div.sk-serial {display: flex;flex-direction: column;align-items: center;background-color: white;padding-right: 0.2em;padding-left: 0.2em;position: relative;}#sk-container-id-3 div.sk-item {position: relative;z-index: 1;}#sk-container-id-3 div.sk-parallel {display: flex;align-items: stretch;justify-content: center;background-color: white;position: relative;}#sk-container-id-3 div.sk-item::before, #sk-container-id-3 div.sk-parallel-item::before {content: \"\";position: absolute;border-left: 1px solid gray;box-sizing: border-box;top: 0;bottom: 0;left: 50%;z-index: -1;}#sk-container-id-3 div.sk-parallel-item {display: flex;flex-direction: column;z-index: 1;position: relative;background-color: white;}#sk-container-id-3 div.sk-parallel-item:first-child::after {align-self: flex-end;width: 50%;}#sk-container-id-3 div.sk-parallel-item:last-child::after {align-self: flex-start;width: 50%;}#sk-container-id-3 div.sk-parallel-item:only-child::after {width: 0;}#sk-container-id-3 div.sk-dashed-wrapped {border: 1px dashed gray;margin: 0 0.4em 0.5em 0.4em;box-sizing: border-box;padding-bottom: 0.4em;background-color: white;}#sk-container-id-3 div.sk-label label {font-family: monospace;font-weight: bold;display: inline-block;line-height: 1.2em;}#sk-container-id-3 div.sk-label-container {text-align: center;}#sk-container-id-3 div.sk-container {/* jupyter's `normalize.less` sets `[hidden] { display: none; }` but bootstrap.min.css set `[hidden] { display: none !important; }` so we also need the `!important` here to be able to override the default hidden behavior on the sphinx rendered scikit-learn.org. See: https://github.com/scikit-learn/scikit-learn/issues/21755 */display: inline-block !important;position: relative;}#sk-container-id-3 div.sk-text-repr-fallback {display: none;}</style><div id=\"sk-container-id-3\" class=\"sk-top-container\"><div class=\"sk-text-repr-fallback\"><pre>PolynomialFeatures(include_bias=False)</pre><b>In a Jupyter environment, please rerun this cell to show the HTML representation or trust the notebook. <br />On GitHub, the HTML representation is unable to render, please try loading this page with nbviewer.org.</b></div><div class=\"sk-container\" hidden><div class=\"sk-item\"><div class=\"sk-estimator sk-toggleable\"><input class=\"sk-toggleable__control sk-hidden--visually\" id=\"sk-estimator-id-3\" type=\"checkbox\" checked><label for=\"sk-estimator-id-3\" class=\"sk-toggleable__label sk-toggleable__label-arrow\">PolynomialFeatures</label><div class=\"sk-toggleable__content\"><pre>PolynomialFeatures(include_bias=False)</pre></div></div></div></div></div>"
      ],
      "text/plain": [
       "PolynomialFeatures(include_bias=False)"
      ]
     },
     "execution_count": 89,
     "metadata": {},
     "output_type": "execute_result"
    }
   ],
   "source": [
    "poly_converter.fit(X)"
   ]
  },
  {
   "cell_type": "code",
   "execution_count": 90,
   "id": "c14efc71",
   "metadata": {},
   "outputs": [],
   "source": [
    "poly_features = poly_converter.transform(X)"
   ]
  },
  {
   "cell_type": "code",
   "execution_count": 91,
   "id": "c38e739d",
   "metadata": {},
   "outputs": [
    {
     "data": {
      "text/plain": [
       "(1160, 6)"
      ]
     },
     "execution_count": 91,
     "metadata": {},
     "output_type": "execute_result"
    }
   ],
   "source": [
    "X.shape"
   ]
  },
  {
   "cell_type": "markdown",
   "id": "fe3b2f05",
   "metadata": {},
   "source": [
    "Polynomial converter made 21 new mixed features"
   ]
  },
  {
   "cell_type": "code",
   "execution_count": 92,
   "id": "9628a91b",
   "metadata": {},
   "outputs": [
    {
     "data": {
      "text/plain": [
       "(1160, 27)"
      ]
     },
     "execution_count": 92,
     "metadata": {},
     "output_type": "execute_result"
    }
   ],
   "source": [
    "poly_features.shape"
   ]
  },
  {
   "cell_type": "code",
   "execution_count": 93,
   "id": "a76ccdb7",
   "metadata": {},
   "outputs": [],
   "source": [
    "X_train, X_test, y_train, y_test = train_test_split(poly_features, y, test_size=0.2, random_state=8)"
   ]
  },
  {
   "cell_type": "code",
   "execution_count": 94,
   "id": "481a316b",
   "metadata": {},
   "outputs": [
    {
     "data": {
      "text/html": [
       "<style>#sk-container-id-4 {color: black;}#sk-container-id-4 pre{padding: 0;}#sk-container-id-4 div.sk-toggleable {background-color: white;}#sk-container-id-4 label.sk-toggleable__label {cursor: pointer;display: block;width: 100%;margin-bottom: 0;padding: 0.3em;box-sizing: border-box;text-align: center;}#sk-container-id-4 label.sk-toggleable__label-arrow:before {content: \"▸\";float: left;margin-right: 0.25em;color: #696969;}#sk-container-id-4 label.sk-toggleable__label-arrow:hover:before {color: black;}#sk-container-id-4 div.sk-estimator:hover label.sk-toggleable__label-arrow:before {color: black;}#sk-container-id-4 div.sk-toggleable__content {max-height: 0;max-width: 0;overflow: hidden;text-align: left;background-color: #f0f8ff;}#sk-container-id-4 div.sk-toggleable__content pre {margin: 0.2em;color: black;border-radius: 0.25em;background-color: #f0f8ff;}#sk-container-id-4 input.sk-toggleable__control:checked~div.sk-toggleable__content {max-height: 200px;max-width: 100%;overflow: auto;}#sk-container-id-4 input.sk-toggleable__control:checked~label.sk-toggleable__label-arrow:before {content: \"▾\";}#sk-container-id-4 div.sk-estimator input.sk-toggleable__control:checked~label.sk-toggleable__label {background-color: #d4ebff;}#sk-container-id-4 div.sk-label input.sk-toggleable__control:checked~label.sk-toggleable__label {background-color: #d4ebff;}#sk-container-id-4 input.sk-hidden--visually {border: 0;clip: rect(1px 1px 1px 1px);clip: rect(1px, 1px, 1px, 1px);height: 1px;margin: -1px;overflow: hidden;padding: 0;position: absolute;width: 1px;}#sk-container-id-4 div.sk-estimator {font-family: monospace;background-color: #f0f8ff;border: 1px dotted black;border-radius: 0.25em;box-sizing: border-box;margin-bottom: 0.5em;}#sk-container-id-4 div.sk-estimator:hover {background-color: #d4ebff;}#sk-container-id-4 div.sk-parallel-item::after {content: \"\";width: 100%;border-bottom: 1px solid gray;flex-grow: 1;}#sk-container-id-4 div.sk-label:hover label.sk-toggleable__label {background-color: #d4ebff;}#sk-container-id-4 div.sk-serial::before {content: \"\";position: absolute;border-left: 1px solid gray;box-sizing: border-box;top: 0;bottom: 0;left: 50%;z-index: 0;}#sk-container-id-4 div.sk-serial {display: flex;flex-direction: column;align-items: center;background-color: white;padding-right: 0.2em;padding-left: 0.2em;position: relative;}#sk-container-id-4 div.sk-item {position: relative;z-index: 1;}#sk-container-id-4 div.sk-parallel {display: flex;align-items: stretch;justify-content: center;background-color: white;position: relative;}#sk-container-id-4 div.sk-item::before, #sk-container-id-4 div.sk-parallel-item::before {content: \"\";position: absolute;border-left: 1px solid gray;box-sizing: border-box;top: 0;bottom: 0;left: 50%;z-index: -1;}#sk-container-id-4 div.sk-parallel-item {display: flex;flex-direction: column;z-index: 1;position: relative;background-color: white;}#sk-container-id-4 div.sk-parallel-item:first-child::after {align-self: flex-end;width: 50%;}#sk-container-id-4 div.sk-parallel-item:last-child::after {align-self: flex-start;width: 50%;}#sk-container-id-4 div.sk-parallel-item:only-child::after {width: 0;}#sk-container-id-4 div.sk-dashed-wrapped {border: 1px dashed gray;margin: 0 0.4em 0.5em 0.4em;box-sizing: border-box;padding-bottom: 0.4em;background-color: white;}#sk-container-id-4 div.sk-label label {font-family: monospace;font-weight: bold;display: inline-block;line-height: 1.2em;}#sk-container-id-4 div.sk-label-container {text-align: center;}#sk-container-id-4 div.sk-container {/* jupyter's `normalize.less` sets `[hidden] { display: none; }` but bootstrap.min.css set `[hidden] { display: none !important; }` so we also need the `!important` here to be able to override the default hidden behavior on the sphinx rendered scikit-learn.org. See: https://github.com/scikit-learn/scikit-learn/issues/21755 */display: inline-block !important;position: relative;}#sk-container-id-4 div.sk-text-repr-fallback {display: none;}</style><div id=\"sk-container-id-4\" class=\"sk-top-container\"><div class=\"sk-text-repr-fallback\"><pre>StandardScaler()</pre><b>In a Jupyter environment, please rerun this cell to show the HTML representation or trust the notebook. <br />On GitHub, the HTML representation is unable to render, please try loading this page with nbviewer.org.</b></div><div class=\"sk-container\" hidden><div class=\"sk-item\"><div class=\"sk-estimator sk-toggleable\"><input class=\"sk-toggleable__control sk-hidden--visually\" id=\"sk-estimator-id-4\" type=\"checkbox\" checked><label for=\"sk-estimator-id-4\" class=\"sk-toggleable__label sk-toggleable__label-arrow\">StandardScaler</label><div class=\"sk-toggleable__content\"><pre>StandardScaler()</pre></div></div></div></div></div>"
      ],
      "text/plain": [
       "StandardScaler()"
      ]
     },
     "execution_count": 94,
     "metadata": {},
     "output_type": "execute_result"
    }
   ],
   "source": [
    "scaler.fit(X_train)"
   ]
  },
  {
   "cell_type": "code",
   "execution_count": 95,
   "id": "cdf421e0",
   "metadata": {},
   "outputs": [],
   "source": [
    "X_train = scaler.fit_transform(X_train)\n",
    "X_test = scaler.transform(X_test)"
   ]
  },
  {
   "cell_type": "code",
   "execution_count": 96,
   "id": "6d8f4e7c",
   "metadata": {},
   "outputs": [
    {
     "data": {
      "text/html": [
       "<style>#sk-container-id-5 {color: black;}#sk-container-id-5 pre{padding: 0;}#sk-container-id-5 div.sk-toggleable {background-color: white;}#sk-container-id-5 label.sk-toggleable__label {cursor: pointer;display: block;width: 100%;margin-bottom: 0;padding: 0.3em;box-sizing: border-box;text-align: center;}#sk-container-id-5 label.sk-toggleable__label-arrow:before {content: \"▸\";float: left;margin-right: 0.25em;color: #696969;}#sk-container-id-5 label.sk-toggleable__label-arrow:hover:before {color: black;}#sk-container-id-5 div.sk-estimator:hover label.sk-toggleable__label-arrow:before {color: black;}#sk-container-id-5 div.sk-toggleable__content {max-height: 0;max-width: 0;overflow: hidden;text-align: left;background-color: #f0f8ff;}#sk-container-id-5 div.sk-toggleable__content pre {margin: 0.2em;color: black;border-radius: 0.25em;background-color: #f0f8ff;}#sk-container-id-5 input.sk-toggleable__control:checked~div.sk-toggleable__content {max-height: 200px;max-width: 100%;overflow: auto;}#sk-container-id-5 input.sk-toggleable__control:checked~label.sk-toggleable__label-arrow:before {content: \"▾\";}#sk-container-id-5 div.sk-estimator input.sk-toggleable__control:checked~label.sk-toggleable__label {background-color: #d4ebff;}#sk-container-id-5 div.sk-label input.sk-toggleable__control:checked~label.sk-toggleable__label {background-color: #d4ebff;}#sk-container-id-5 input.sk-hidden--visually {border: 0;clip: rect(1px 1px 1px 1px);clip: rect(1px, 1px, 1px, 1px);height: 1px;margin: -1px;overflow: hidden;padding: 0;position: absolute;width: 1px;}#sk-container-id-5 div.sk-estimator {font-family: monospace;background-color: #f0f8ff;border: 1px dotted black;border-radius: 0.25em;box-sizing: border-box;margin-bottom: 0.5em;}#sk-container-id-5 div.sk-estimator:hover {background-color: #d4ebff;}#sk-container-id-5 div.sk-parallel-item::after {content: \"\";width: 100%;border-bottom: 1px solid gray;flex-grow: 1;}#sk-container-id-5 div.sk-label:hover label.sk-toggleable__label {background-color: #d4ebff;}#sk-container-id-5 div.sk-serial::before {content: \"\";position: absolute;border-left: 1px solid gray;box-sizing: border-box;top: 0;bottom: 0;left: 50%;z-index: 0;}#sk-container-id-5 div.sk-serial {display: flex;flex-direction: column;align-items: center;background-color: white;padding-right: 0.2em;padding-left: 0.2em;position: relative;}#sk-container-id-5 div.sk-item {position: relative;z-index: 1;}#sk-container-id-5 div.sk-parallel {display: flex;align-items: stretch;justify-content: center;background-color: white;position: relative;}#sk-container-id-5 div.sk-item::before, #sk-container-id-5 div.sk-parallel-item::before {content: \"\";position: absolute;border-left: 1px solid gray;box-sizing: border-box;top: 0;bottom: 0;left: 50%;z-index: -1;}#sk-container-id-5 div.sk-parallel-item {display: flex;flex-direction: column;z-index: 1;position: relative;background-color: white;}#sk-container-id-5 div.sk-parallel-item:first-child::after {align-self: flex-end;width: 50%;}#sk-container-id-5 div.sk-parallel-item:last-child::after {align-self: flex-start;width: 50%;}#sk-container-id-5 div.sk-parallel-item:only-child::after {width: 0;}#sk-container-id-5 div.sk-dashed-wrapped {border: 1px dashed gray;margin: 0 0.4em 0.5em 0.4em;box-sizing: border-box;padding-bottom: 0.4em;background-color: white;}#sk-container-id-5 div.sk-label label {font-family: monospace;font-weight: bold;display: inline-block;line-height: 1.2em;}#sk-container-id-5 div.sk-label-container {text-align: center;}#sk-container-id-5 div.sk-container {/* jupyter's `normalize.less` sets `[hidden] { display: none; }` but bootstrap.min.css set `[hidden] { display: none !important; }` so we also need the `!important` here to be able to override the default hidden behavior on the sphinx rendered scikit-learn.org. See: https://github.com/scikit-learn/scikit-learn/issues/21755 */display: inline-block !important;position: relative;}#sk-container-id-5 div.sk-text-repr-fallback {display: none;}</style><div id=\"sk-container-id-5\" class=\"sk-top-container\"><div class=\"sk-text-repr-fallback\"><pre>LinearRegression()</pre><b>In a Jupyter environment, please rerun this cell to show the HTML representation or trust the notebook. <br />On GitHub, the HTML representation is unable to render, please try loading this page with nbviewer.org.</b></div><div class=\"sk-container\" hidden><div class=\"sk-item\"><div class=\"sk-estimator sk-toggleable\"><input class=\"sk-toggleable__control sk-hidden--visually\" id=\"sk-estimator-id-5\" type=\"checkbox\" checked><label for=\"sk-estimator-id-5\" class=\"sk-toggleable__label sk-toggleable__label-arrow\">LinearRegression</label><div class=\"sk-toggleable__content\"><pre>LinearRegression()</pre></div></div></div></div></div>"
      ],
      "text/plain": [
       "LinearRegression()"
      ]
     },
     "execution_count": 96,
     "metadata": {},
     "output_type": "execute_result"
    }
   ],
   "source": [
    "model.fit(X_train, y_train)"
   ]
  },
  {
   "cell_type": "code",
   "execution_count": 97,
   "id": "2e91144c",
   "metadata": {},
   "outputs": [],
   "source": [
    "test_predictions = model.predict(X_test)"
   ]
  },
  {
   "cell_type": "code",
   "execution_count": 98,
   "id": "d8cf9f48",
   "metadata": {},
   "outputs": [
    {
     "name": "stdout",
     "output_type": "stream",
     "text": [
      "MAE: 42.803, MSE: 3918.944, RMSE: 62.601\n"
     ]
    }
   ],
   "source": [
    "MAE = mean_absolute_error(y_test, test_predictions).round(3)\n",
    "MSE = mean_squared_error(y_test, test_predictions).round(3)\n",
    "RMSE = np.sqrt(mean_squared_error(y_test, test_predictions)).round(3)\n",
    "print(f\"MAE: {MAE}, MSE: {MSE}, RMSE: {RMSE}\")"
   ]
  },
  {
   "cell_type": "markdown",
   "id": "9457be4a",
   "metadata": {},
   "source": [
    "Now results its little better than in  Simple Linear Regression"
   ]
  },
  {
   "cell_type": "code",
   "execution_count": 99,
   "id": "6a53499e",
   "metadata": {},
   "outputs": [
    {
     "data": {
      "image/png": "[encoded data removed]",
      "text/plain": [
       "<Figure size 640x480 with 1 Axes>"
      ]
     },
     "metadata": {},
     "output_type": "display_data"
    }
   ],
   "source": [
    "sns.kdeplot(data=test_predictions, label=\"Price Predicted\")\n",
    "sns.kdeplot(data=y_test, label=\"Actual Price\")\n",
    "plt.legend();"
   ]
  },
  {
   "cell_type": "code",
   "execution_count": 100,
   "id": "00deed52",
   "metadata": {},
   "outputs": [],
   "source": [
    "example_phone = [[4.4, 6, 64, 48, 16, 5000]]"
   ]
  },
  {
   "cell_type": "code",
   "execution_count": 101,
   "id": "c79aae05",
   "metadata": {},
   "outputs": [
    {
     "data": {
      "text/plain": [
       "array([[4.400e+00, 6.000e+00, 6.400e+01, 4.800e+01, 1.600e+01, 5.000e+03,\n",
       "        1.936e+01, 2.640e+01, 2.816e+02, 2.112e+02, 7.040e+01, 2.200e+04,\n",
       "        3.600e+01, 3.840e+02, 2.880e+02, 9.600e+01, 3.000e+04, 4.096e+03,\n",
       "        3.072e+03, 1.024e+03, 3.200e+05, 2.304e+03, 7.680e+02, 2.400e+05,\n",
       "        2.560e+02, 8.000e+04, 2.500e+07]])"
      ]
     },
     "execution_count": 101,
     "metadata": {},
     "output_type": "execute_result"
    }
   ],
   "source": [
    "poly_converter.fit_transform(example_phone)"
   ]
  },
  {
   "cell_type": "code",
   "execution_count": 102,
   "id": "7895764d",
   "metadata": {},
   "outputs": [
    {
     "data": {
      "text/plain": [
       "array([1.76994874e+09])"
      ]
     },
     "execution_count": 102,
     "metadata": {},
     "output_type": "execute_result"
    }
   ],
   "source": [
    "model.predict(poly_converter.fit_transform(example_phone))"
   ]
  },
  {
   "cell_type": "markdown",
   "id": "6306edfd",
   "metadata": {},
   "source": [
    "### Grid Search"
   ]
  },
  {
   "cell_type": "code",
   "execution_count": 103,
   "id": "79d508d4",
   "metadata": {},
   "outputs": [],
   "source": [
    "from sklearn.linear_model import ElasticNet\n",
    "from sklearn.model_selection import GridSearchCV"
   ]
  },
  {
   "cell_type": "code",
   "execution_count": 104,
   "id": "0924fc60",
   "metadata": {},
   "outputs": [],
   "source": [
    "X_train, X_test, y_train, y_test = train_test_split(X, y, test_size=0.2, random_state=8)"
   ]
  },
  {
   "cell_type": "code",
   "execution_count": 105,
   "id": "f15589d4",
   "metadata": {},
   "outputs": [],
   "source": [
    "elastic_net = ElasticNet()"
   ]
  },
  {
   "cell_type": "code",
   "execution_count": 106,
   "id": "ac6fb79b",
   "metadata": {},
   "outputs": [],
   "source": [
    "param_grid = {\"alpha\":[0.1, 1, 5, 10, 25, 50, 100], \"l1_ratio\":[.1, .25, .5, .7, .95, .99, 1]}"
   ]
  },
  {
   "cell_type": "code",
   "execution_count": 107,
   "id": "3d8318c7",
   "metadata": {},
   "outputs": [],
   "source": [
    "grid_model = GridSearchCV(estimator=elastic_net, param_grid=param_grid,\n",
    "                          scoring=\"neg_mean_squared_error\", cv=8, verbose=True)"
   ]
  },
  {
   "cell_type": "code",
   "execution_count": 108,
   "id": "b72d2eb7",
   "metadata": {
    "scrolled": true
   },
   "outputs": [
    {
     "name": "stdout",
     "output_type": "stream",
     "text": [
      "Fitting 8 folds for each of 49 candidates, totalling 392 fits\n"
     ]
    },
    {
     "data": {
      "text/html": [
       "<style>#sk-container-id-6 {color: black;}#sk-container-id-6 pre{padding: 0;}#sk-container-id-6 div.sk-toggleable {background-color: white;}#sk-container-id-6 label.sk-toggleable__label {cursor: pointer;display: block;width: 100%;margin-bottom: 0;padding: 0.3em;box-sizing: border-box;text-align: center;}#sk-container-id-6 label.sk-toggleable__label-arrow:before {content: \"▸\";float: left;margin-right: 0.25em;color: #696969;}#sk-container-id-6 label.sk-toggleable__label-arrow:hover:before {color: black;}#sk-container-id-6 div.sk-estimator:hover label.sk-toggleable__label-arrow:before {color: black;}#sk-container-id-6 div.sk-toggleable__content {max-height: 0;max-width: 0;overflow: hidden;text-align: left;background-color: #f0f8ff;}#sk-container-id-6 div.sk-toggleable__content pre {margin: 0.2em;color: black;border-radius: 0.25em;background-color: #f0f8ff;}#sk-container-id-6 input.sk-toggleable__control:checked~div.sk-toggleable__content {max-height: 200px;max-width: 100%;overflow: auto;}#sk-container-id-6 input.sk-toggleable__control:checked~label.sk-toggleable__label-arrow:before {content: \"▾\";}#sk-container-id-6 div.sk-estimator input.sk-toggleable__control:checked~label.sk-toggleable__label {background-color: #d4ebff;}#sk-container-id-6 div.sk-label input.sk-toggleable__control:checked~label.sk-toggleable__label {background-color: #d4ebff;}#sk-container-id-6 input.sk-hidden--visually {border: 0;clip: rect(1px 1px 1px 1px);clip: rect(1px, 1px, 1px, 1px);height: 1px;margin: -1px;overflow: hidden;padding: 0;position: absolute;width: 1px;}#sk-container-id-6 div.sk-estimator {font-family: monospace;background-color: #f0f8ff;border: 1px dotted black;border-radius: 0.25em;box-sizing: border-box;margin-bottom: 0.5em;}#sk-container-id-6 div.sk-estimator:hover {background-color: #d4ebff;}#sk-container-id-6 div.sk-parallel-item::after {content: \"\";width: 100%;border-bottom: 1px solid gray;flex-grow: 1;}#sk-container-id-6 div.sk-label:hover label.sk-toggleable__label {background-color: #d4ebff;}#sk-container-id-6 div.sk-serial::before {content: \"\";position: absolute;border-left: 1px solid gray;box-sizing: border-box;top: 0;bottom: 0;left: 50%;z-index: 0;}#sk-container-id-6 div.sk-serial {display: flex;flex-direction: column;align-items: center;background-color: white;padding-right: 0.2em;padding-left: 0.2em;position: relative;}#sk-container-id-6 div.sk-item {position: relative;z-index: 1;}#sk-container-id-6 div.sk-parallel {display: flex;align-items: stretch;justify-content: center;background-color: white;position: relative;}#sk-container-id-6 div.sk-item::before, #sk-container-id-6 div.sk-parallel-item::before {content: \"\";position: absolute;border-left: 1px solid gray;box-sizing: border-box;top: 0;bottom: 0;left: 50%;z-index: -1;}#sk-container-id-6 div.sk-parallel-item {display: flex;flex-direction: column;z-index: 1;position: relative;background-color: white;}#sk-container-id-6 div.sk-parallel-item:first-child::after {align-self: flex-end;width: 50%;}#sk-container-id-6 div.sk-parallel-item:last-child::after {align-self: flex-start;width: 50%;}#sk-container-id-6 div.sk-parallel-item:only-child::after {width: 0;}#sk-container-id-6 div.sk-dashed-wrapped {border: 1px dashed gray;margin: 0 0.4em 0.5em 0.4em;box-sizing: border-box;padding-bottom: 0.4em;background-color: white;}#sk-container-id-6 div.sk-label label {font-family: monospace;font-weight: bold;display: inline-block;line-height: 1.2em;}#sk-container-id-6 div.sk-label-container {text-align: center;}#sk-container-id-6 div.sk-container {/* jupyter's `normalize.less` sets `[hidden] { display: none; }` but bootstrap.min.css set `[hidden] { display: none !important; }` so we also need the `!important` here to be able to override the default hidden behavior on the sphinx rendered scikit-learn.org. See: https://github.com/scikit-learn/scikit-learn/issues/21755 */display: inline-block !important;position: relative;}#sk-container-id-6 div.sk-text-repr-fallback {display: none;}</style><div id=\"sk-container-id-6\" class=\"sk-top-container\"><div class=\"sk-text-repr-fallback\"><pre>GridSearchCV(cv=8, estimator=ElasticNet(),\n",
       "             param_grid={&#x27;alpha&#x27;: [0.1, 1, 5, 10, 25, 50, 100],\n",
       "                         &#x27;l1_ratio&#x27;: [0.1, 0.25, 0.5, 0.7, 0.95, 0.99, 1]},\n",
       "             scoring=&#x27;neg_mean_squared_error&#x27;, verbose=True)</pre><b>In a Jupyter environment, please rerun this cell to show the HTML representation or trust the notebook. <br />On GitHub, the HTML representation is unable to render, please try loading this page with nbviewer.org.</b></div><div class=\"sk-container\" hidden><div class=\"sk-item sk-dashed-wrapped\"><div class=\"sk-label-container\"><div class=\"sk-label sk-toggleable\"><input class=\"sk-toggleable__control sk-hidden--visually\" id=\"sk-estimator-id-6\" type=\"checkbox\" ><label for=\"sk-estimator-id-6\" class=\"sk-toggleable__label sk-toggleable__label-arrow\">GridSearchCV</label><div class=\"sk-toggleable__content\"><pre>GridSearchCV(cv=8, estimator=ElasticNet(),\n",
       "             param_grid={&#x27;alpha&#x27;: [0.1, 1, 5, 10, 25, 50, 100],\n",
       "                         &#x27;l1_ratio&#x27;: [0.1, 0.25, 0.5, 0.7, 0.95, 0.99, 1]},\n",
       "             scoring=&#x27;neg_mean_squared_error&#x27;, verbose=True)</pre></div></div></div><div class=\"sk-parallel\"><div class=\"sk-parallel-item\"><div class=\"sk-item\"><div class=\"sk-label-container\"><div class=\"sk-label sk-toggleable\"><input class=\"sk-toggleable__control sk-hidden--visually\" id=\"sk-estimator-id-7\" type=\"checkbox\" ><label for=\"sk-estimator-id-7\" class=\"sk-toggleable__label sk-toggleable__label-arrow\">estimator: ElasticNet</label><div class=\"sk-toggleable__content\"><pre>ElasticNet()</pre></div></div></div><div class=\"sk-serial\"><div class=\"sk-item\"><div class=\"sk-estimator sk-toggleable\"><input class=\"sk-toggleable__control sk-hidden--visually\" id=\"sk-estimator-id-8\" type=\"checkbox\" ><label for=\"sk-estimator-id-8\" class=\"sk-toggleable__label sk-toggleable__label-arrow\">ElasticNet</label><div class=\"sk-toggleable__content\"><pre>ElasticNet()</pre></div></div></div></div></div></div></div></div></div></div>"
      ],
      "text/plain": [
       "GridSearchCV(cv=8, estimator=ElasticNet(),\n",
       "             param_grid={'alpha': [0.1, 1, 5, 10, 25, 50, 100],\n",
       "                         'l1_ratio': [0.1, 0.25, 0.5, 0.7, 0.95, 0.99, 1]},\n",
       "             scoring='neg_mean_squared_error', verbose=True)"
      ]
     },
     "execution_count": 108,
     "metadata": {},
     "output_type": "execute_result"
    }
   ],
   "source": [
    "grid_model.fit(X_train, y_train)"
   ]
  },
  {
   "cell_type": "code",
   "execution_count": 109,
   "id": "370ebd8e",
   "metadata": {},
   "outputs": [
    {
     "data": {
      "text/html": [
       "<style>#sk-container-id-7 {color: black;}#sk-container-id-7 pre{padding: 0;}#sk-container-id-7 div.sk-toggleable {background-color: white;}#sk-container-id-7 label.sk-toggleable__label {cursor: pointer;display: block;width: 100%;margin-bottom: 0;padding: 0.3em;box-sizing: border-box;text-align: center;}#sk-container-id-7 label.sk-toggleable__label-arrow:before {content: \"▸\";float: left;margin-right: 0.25em;color: #696969;}#sk-container-id-7 label.sk-toggleable__label-arrow:hover:before {color: black;}#sk-container-id-7 div.sk-estimator:hover label.sk-toggleable__label-arrow:before {color: black;}#sk-container-id-7 div.sk-toggleable__content {max-height: 0;max-width: 0;overflow: hidden;text-align: left;background-color: #f0f8ff;}#sk-container-id-7 div.sk-toggleable__content pre {margin: 0.2em;color: black;border-radius: 0.25em;background-color: #f0f8ff;}#sk-container-id-7 input.sk-toggleable__control:checked~div.sk-toggleable__content {max-height: 200px;max-width: 100%;overflow: auto;}#sk-container-id-7 input.sk-toggleable__control:checked~label.sk-toggleable__label-arrow:before {content: \"▾\";}#sk-container-id-7 div.sk-estimator input.sk-toggleable__control:checked~label.sk-toggleable__label {background-color: #d4ebff;}#sk-container-id-7 div.sk-label input.sk-toggleable__control:checked~label.sk-toggleable__label {background-color: #d4ebff;}#sk-container-id-7 input.sk-hidden--visually {border: 0;clip: rect(1px 1px 1px 1px);clip: rect(1px, 1px, 1px, 1px);height: 1px;margin: -1px;overflow: hidden;padding: 0;position: absolute;width: 1px;}#sk-container-id-7 div.sk-estimator {font-family: monospace;background-color: #f0f8ff;border: 1px dotted black;border-radius: 0.25em;box-sizing: border-box;margin-bottom: 0.5em;}#sk-container-id-7 div.sk-estimator:hover {background-color: #d4ebff;}#sk-container-id-7 div.sk-parallel-item::after {content: \"\";width: 100%;border-bottom: 1px solid gray;flex-grow: 1;}#sk-container-id-7 div.sk-label:hover label.sk-toggleable__label {background-color: #d4ebff;}#sk-container-id-7 div.sk-serial::before {content: \"\";position: absolute;border-left: 1px solid gray;box-sizing: border-box;top: 0;bottom: 0;left: 50%;z-index: 0;}#sk-container-id-7 div.sk-serial {display: flex;flex-direction: column;align-items: center;background-color: white;padding-right: 0.2em;padding-left: 0.2em;position: relative;}#sk-container-id-7 div.sk-item {position: relative;z-index: 1;}#sk-container-id-7 div.sk-parallel {display: flex;align-items: stretch;justify-content: center;background-color: white;position: relative;}#sk-container-id-7 div.sk-item::before, #sk-container-id-7 div.sk-parallel-item::before {content: \"\";position: absolute;border-left: 1px solid gray;box-sizing: border-box;top: 0;bottom: 0;left: 50%;z-index: -1;}#sk-container-id-7 div.sk-parallel-item {display: flex;flex-direction: column;z-index: 1;position: relative;background-color: white;}#sk-container-id-7 div.sk-parallel-item:first-child::after {align-self: flex-end;width: 50%;}#sk-container-id-7 div.sk-parallel-item:last-child::after {align-self: flex-start;width: 50%;}#sk-container-id-7 div.sk-parallel-item:only-child::after {width: 0;}#sk-container-id-7 div.sk-dashed-wrapped {border: 1px dashed gray;margin: 0 0.4em 0.5em 0.4em;box-sizing: border-box;padding-bottom: 0.4em;background-color: white;}#sk-container-id-7 div.sk-label label {font-family: monospace;font-weight: bold;display: inline-block;line-height: 1.2em;}#sk-container-id-7 div.sk-label-container {text-align: center;}#sk-container-id-7 div.sk-container {/* jupyter's `normalize.less` sets `[hidden] { display: none; }` but bootstrap.min.css set `[hidden] { display: none !important; }` so we also need the `!important` here to be able to override the default hidden behavior on the sphinx rendered scikit-learn.org. See: https://github.com/scikit-learn/scikit-learn/issues/21755 */display: inline-block !important;position: relative;}#sk-container-id-7 div.sk-text-repr-fallback {display: none;}</style><div id=\"sk-container-id-7\" class=\"sk-top-container\"><div class=\"sk-text-repr-fallback\"><pre>ElasticNet(alpha=0.1, l1_ratio=0.95)</pre><b>In a Jupyter environment, please rerun this cell to show the HTML representation or trust the notebook. <br />On GitHub, the HTML representation is unable to render, please try loading this page with nbviewer.org.</b></div><div class=\"sk-container\" hidden><div class=\"sk-item\"><div class=\"sk-estimator sk-toggleable\"><input class=\"sk-toggleable__control sk-hidden--visually\" id=\"sk-estimator-id-9\" type=\"checkbox\" checked><label for=\"sk-estimator-id-9\" class=\"sk-toggleable__label sk-toggleable__label-arrow\">ElasticNet</label><div class=\"sk-toggleable__content\"><pre>ElasticNet(alpha=0.1, l1_ratio=0.95)</pre></div></div></div></div></div>"
      ],
      "text/plain": [
       "ElasticNet(alpha=0.1, l1_ratio=0.95)"
      ]
     },
     "execution_count": 109,
     "metadata": {},
     "output_type": "execute_result"
    }
   ],
   "source": [
    "grid_model.best_estimator_"
   ]
  },
  {
   "cell_type": "code",
   "execution_count": 110,
   "id": "abaa163c",
   "metadata": {},
   "outputs": [],
   "source": [
    "test_predictions = grid_model.predict(X_test)"
   ]
  },
  {
   "cell_type": "code",
   "execution_count": 111,
   "id": "9a0febd2",
   "metadata": {},
   "outputs": [
    {
     "name": "stdout",
     "output_type": "stream",
     "text": [
      "MAE: 47.504, MSE: 4827.633, RMSE: 69.481\n"
     ]
    }
   ],
   "source": [
    "MAE = mean_absolute_error(y_test, test_predictions).round(3)\n",
    "MSE = mean_squared_error(y_test, test_predictions).round(3)\n",
    "RMSE = np.sqrt(mean_squared_error(y_test, test_predictions)).round(3)\n",
    "print(f\"MAE: {MAE}, MSE: {MSE}, RMSE: {RMSE}\")"
   ]
  },
  {
   "cell_type": "markdown",
   "id": "4ba1357a",
   "metadata": {},
   "source": [
    "GridSearch performed better than Simple Linear Regression but worse than Polynomial Regression"
   ]
  },
  {
   "cell_type": "code",
   "execution_count": 112,
   "id": "c1cefee1",
   "metadata": {},
   "outputs": [
    {
     "data": {
      "image/png": "[encoded data removed]",
      "text/plain": [
       "<Figure size 640x480 with 1 Axes>"
      ]
     },
     "metadata": {},
     "output_type": "display_data"
    }
   ],
   "source": [
    "sns.kdeplot(data=test_predictions, label=\"Price Predicted\")\n",
    "sns.kdeplot(data=y_test, label=\"Actual Price\")\n",
    "plt.legend();"
   ]
  },
  {
   "cell_type": "markdown",
   "id": "ad8102b7",
   "metadata": {},
   "source": [
    "### Little Conclusion"
   ]
  },
  {
   "cell_type": "markdown",
   "id": "93078851",
   "metadata": {},
   "source": [
    "In my opinion, Model 3 - with grid serch best predicted prices, as can be seen in the chart. However, none of them stood out strongly in determining prices."
   ]
  },
  {
   "cell_type": "code",
   "execution_count": 113,
   "id": "6f4dd376",
   "metadata": {},
   "outputs": [],
   "source": [
    "example_phone = [[4.4, 6, 64, 48, 16, 5000]]"
   ]
  },
  {
   "cell_type": "code",
   "execution_count": 114,
   "id": "8e42eae5",
   "metadata": {},
   "outputs": [
    {
     "name": "stderr",
     "output_type": "stream",
     "text": [
      "D:\\Anaconda3\\envs\\training\\Lib\\site-packages\\sklearn\\base.py:464: UserWarning: X does not have valid feature names, but ElasticNet was fitted with feature names\n",
      "  warnings.warn(\n"
     ]
    },
    {
     "data": {
      "text/plain": [
       "array([199.44245072])"
      ]
     },
     "execution_count": 114,
     "metadata": {},
     "output_type": "execute_result"
    }
   ],
   "source": [
    "grid_model.predict(example_phone)"
   ]
  }
 ],
 "metadata": {
  "kernelspec": {
   "display_name": "Python 3 (ipykernel)",
   "language": "python",
   "name": "python3"
  },
  "language_info": {
   "codemirror_mode": {
    "name": "ipython",
    "version": 3
   },
   "file_extension": ".py",
   "mimetype": "text/x-python",
   "name": "python",
   "nbconvert_exporter": "python",
   "pygments_lexer": "ipython3",
   "version": "3.11.4"
  }
 },
 "nbformat": 4,
 "nbformat_minor": 5
}
