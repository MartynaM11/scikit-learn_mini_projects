{
 "cells": [
  {
   "cell_type": "code",
   "execution_count": 1,
   "id": "87bb7fe0",
   "metadata": {},
   "outputs": [],
   "source": [
    "import numpy as np\n",
    "import pandas as pd\n",
    "import matplotlib.pyplot as plt\n",
    "import seaborn as sns\n",
    "import re"
   ]
  },
  {
   "cell_type": "code",
   "execution_count": 2,
   "id": "a2e67c2f",
   "metadata": {},
   "outputs": [],
   "source": [
    "df = pd.read_csv(\"CyberBullying Comments Dataset.csv\")"
   ]
  },
  {
   "cell_type": "code",
   "execution_count": 3,
   "id": "9e94dd68",
   "metadata": {},
   "outputs": [
    {
     "data": {
      "text/html": [
       "<div>\n",
       "<style scoped>\n",
       "    .dataframe tbody tr th:only-of-type {\n",
       "        vertical-align: middle;\n",
       "    }\n",
       "\n",
       "    .dataframe tbody tr th {\n",
       "        vertical-align: top;\n",
       "    }\n",
       "\n",
       "    .dataframe thead th {\n",
       "        text-align: right;\n",
       "    }\n",
       "</style>\n",
       "<table border=\"1\" class=\"dataframe\">\n",
       "  <thead>\n",
       "    <tr style=\"text-align: right;\">\n",
       "      <th></th>\n",
       "      <th>Text</th>\n",
       "      <th>CB_Label</th>\n",
       "    </tr>\n",
       "  </thead>\n",
       "  <tbody>\n",
       "    <tr>\n",
       "      <th>0</th>\n",
       "      <td>damn there is someones nana up here at beach w...</td>\n",
       "      <td>0</td>\n",
       "    </tr>\n",
       "    <tr>\n",
       "      <th>1</th>\n",
       "      <td>no kidding! dick clark was a corpse mechanical...</td>\n",
       "      <td>0</td>\n",
       "    </tr>\n",
       "    <tr>\n",
       "      <th>2</th>\n",
       "      <td>i read an article on jobros and thought damn w...</td>\n",
       "      <td>0</td>\n",
       "    </tr>\n",
       "    <tr>\n",
       "      <th>3</th>\n",
       "      <td>I got one fucking day of sprinkles and now it'...</td>\n",
       "      <td>0</td>\n",
       "    </tr>\n",
       "    <tr>\n",
       "      <th>4</th>\n",
       "      <td>I was already listening to Elliott smith  and ...</td>\n",
       "      <td>0</td>\n",
       "    </tr>\n",
       "    <tr>\n",
       "      <th>...</th>\n",
       "      <td>...</td>\n",
       "      <td>...</td>\n",
       "    </tr>\n",
       "    <tr>\n",
       "      <th>11095</th>\n",
       "      <td>\"Don't worry you little empty head over it ......</td>\n",
       "      <td>1</td>\n",
       "    </tr>\n",
       "    <tr>\n",
       "      <th>11096</th>\n",
       "      <td>\"Some of Ya'll are dumb as fuck.... These are ...</td>\n",
       "      <td>1</td>\n",
       "    </tr>\n",
       "    <tr>\n",
       "      <th>11097</th>\n",
       "      <td>\"Lana, you're so full of shit your eyes are br...</td>\n",
       "      <td>1</td>\n",
       "    </tr>\n",
       "    <tr>\n",
       "      <th>11098</th>\n",
       "      <td>\"You ain't lying let the @dbeeio61:disqus\\xa0\\...</td>\n",
       "      <td>1</td>\n",
       "    </tr>\n",
       "    <tr>\n",
       "      <th>11099</th>\n",
       "      <td>\"Looks like that little Cut-n-paste job has go...</td>\n",
       "      <td>1</td>\n",
       "    </tr>\n",
       "  </tbody>\n",
       "</table>\n",
       "<p>11100 rows × 2 columns</p>\n",
       "</div>"
      ],
      "text/plain": [
       "                                                    Text  CB_Label\n",
       "0      damn there is someones nana up here at beach w...         0\n",
       "1      no kidding! dick clark was a corpse mechanical...         0\n",
       "2      i read an article on jobros and thought damn w...         0\n",
       "3      I got one fucking day of sprinkles and now it'...         0\n",
       "4      I was already listening to Elliott smith  and ...         0\n",
       "...                                                  ...       ...\n",
       "11095  \"Don't worry you little empty head over it ......         1\n",
       "11096  \"Some of Ya'll are dumb as fuck.... These are ...         1\n",
       "11097  \"Lana, you're so full of shit your eyes are br...         1\n",
       "11098  \"You ain't lying let the @dbeeio61:disqus\\xa0\\...         1\n",
       "11099  \"Looks like that little Cut-n-paste job has go...         1\n",
       "\n",
       "[11100 rows x 2 columns]"
      ]
     },
     "execution_count": 3,
     "metadata": {},
     "output_type": "execute_result"
    }
   ],
   "source": [
    "df"
   ]
  },
  {
   "cell_type": "code",
   "execution_count": 4,
   "id": "a8368048",
   "metadata": {},
   "outputs": [
    {
     "name": "stdout",
     "output_type": "stream",
     "text": [
      "<class 'pandas.core.frame.DataFrame'>\n",
      "RangeIndex: 11100 entries, 0 to 11099\n",
      "Data columns (total 2 columns):\n",
      " #   Column    Non-Null Count  Dtype \n",
      "---  ------    --------------  ----- \n",
      " 0   Text      11100 non-null  object\n",
      " 1   CB_Label  11100 non-null  int64 \n",
      "dtypes: int64(1), object(1)\n",
      "memory usage: 173.6+ KB\n"
     ]
    }
   ],
   "source": [
    "df.info()"
   ]
  },
  {
   "cell_type": "markdown",
   "id": "a4cc808a",
   "metadata": {},
   "source": [
    "Check if any reviews are blank strings."
   ]
  },
  {
   "cell_type": "code",
   "execution_count": 5,
   "id": "3fb18a8d",
   "metadata": {},
   "outputs": [
    {
     "data": {
      "text/plain": [
       "0"
      ]
     },
     "execution_count": 5,
     "metadata": {},
     "output_type": "execute_result"
    }
   ],
   "source": [
    "df[\"Text\"].str.isspace().sum()"
   ]
  },
  {
   "cell_type": "code",
   "execution_count": 6,
   "id": "e97f588e",
   "metadata": {
    "scrolled": false
   },
   "outputs": [
    {
     "data": {
      "text/plain": [
       "<AxesSubplot:xlabel='CB_Label', ylabel='count'>"
      ]
     },
     "execution_count": 6,
     "metadata": {},
     "output_type": "execute_result"
    },
    {
     "data": {
      "image/png": "[encoded data removed]",
      "text/plain": [
       "<Figure size 640x480 with 1 Axes>"
      ]
     },
     "metadata": {},
     "output_type": "display_data"
    }
   ],
   "source": [
    "sns.countplot(data=df, x=\"CB_Label\")"
   ]
  },
  {
   "cell_type": "markdown",
   "id": "d5251618",
   "metadata": {},
   "source": [
    "Get every word in the text starting with a lowercase letter"
   ]
  },
  {
   "cell_type": "code",
   "execution_count": 7,
   "id": "df22949f",
   "metadata": {},
   "outputs": [],
   "source": [
    "#df['Text'] = df['Text'].str.lower()"
   ]
  },
  {
   "cell_type": "code",
   "execution_count": 8,
   "id": "2eef2725",
   "metadata": {},
   "outputs": [],
   "source": [
    "def remove_single_letters(text):\n",
    "    return re.sub(r\"\\s+[a-zA-Z]\\s+\", \" \", text)"
   ]
  },
  {
   "cell_type": "code",
   "execution_count": 9,
   "id": "eef36448",
   "metadata": {},
   "outputs": [],
   "source": [
    "df['Text'] = df['Text'].apply(remove_single_letters)"
   ]
  },
  {
   "cell_type": "code",
   "execution_count": 10,
   "id": "9565eb2a",
   "metadata": {},
   "outputs": [],
   "source": [
    "from sklearn.feature_extraction.text import CountVectorizer"
   ]
  },
  {
   "cell_type": "code",
   "execution_count": 11,
   "id": "12022d03",
   "metadata": {},
   "outputs": [],
   "source": [
    "cv = CountVectorizer(stop_words='english')"
   ]
  },
  {
   "cell_type": "markdown",
   "id": "dac2b94f",
   "metadata": {},
   "source": [
    " top 15 words used for Cyberbullying Tweets"
   ]
  },
  {
   "cell_type": "code",
   "execution_count": 12,
   "id": "73a91e86",
   "metadata": {},
   "outputs": [
    {
     "name": "stdout",
     "output_type": "stream",
     "text": [
      "Top 15 words used for Cyberbullying Tweets.\n",
      "[('like', 705), ('fuck', 679), ('xa0', 603), ('ass', 585), ('just', 558), ('hate', 495), ('fucking', 417), ('don', 416), ('damn', 410), ('bitch', 383), ('know', 364), ('people', 285), ('lol', 283), ('stupid', 272), ('idiot', 270)]\n"
     ]
    }
   ],
   "source": [
    "matrix1 = cv.fit_transform(df[df['CB_Label']==1]['Text'])\n",
    "freqs1 = zip(cv.get_feature_names_out(), matrix1.sum(axis=0).tolist()[0])    \n",
    "# sort from largest to smallest\n",
    "print(\"Top 15 words used for Cyberbullying Tweets.\")\n",
    "print(sorted(freqs1, key=lambda x: -x[1])[:15])"
   ]
  },
  {
   "cell_type": "markdown",
   "id": "d859d43b",
   "metadata": {},
   "source": [
    " top 15 words used for  NOT Cyberbullying Tweets"
   ]
  },
  {
   "cell_type": "code",
   "execution_count": 13,
   "id": "4e9160fc",
   "metadata": {},
   "outputs": [
    {
     "name": "stdout",
     "output_type": "stream",
     "text": [
      "Top 15 words used for NOT Cyberbullying Tweets.\n",
      "[('hate', 918), ('damn', 832), ('ass', 509), ('sucks', 497), ('lol', 469), ('like', 446), ('just', 386), ('fuck', 297), ('fucking', 253), ('know', 246), ('good', 239), ('love', 237), ('don', 228), ('think', 218), ('haha', 184)]\n"
     ]
    }
   ],
   "source": [
    "matrix0 = cv.fit_transform(df[df['CB_Label']==0]['Text'])\n",
    "freqs0 = zip(cv.get_feature_names_out(), matrix0.sum(axis=0).tolist()[0])    \n",
    "# sort from largest to smallest\n",
    "print(\"Top 15 words used for NOT Cyberbullying Tweets.\")\n",
    "print(sorted(freqs0, key=lambda x: -x[1])[:15])"
   ]
  },
  {
   "cell_type": "markdown",
   "id": "8e5c8b36",
   "metadata": {},
   "source": [
    "Comparison of Top 15 Words Used for Cyberbullying and Not Cyberbullying Tweets"
   ]
  },
  {
   "cell_type": "code",
   "execution_count": 14,
   "id": "e4b66cb6",
   "metadata": {
    "scrolled": false
   },
   "outputs": [
    {
     "data": {
      "image/png": "[encoded data removed]",
      "text/plain": [
       "<Figure size 1200x800 with 1 Axes>"
      ]
     },
     "metadata": {},
     "output_type": "display_data"
    }
   ],
   "source": [
    "matrix0 = cv.fit_transform(df[df['CB_Label'] == 0]['Text'])\n",
    "freqs0 = zip(cv.get_feature_names_out(), matrix0.sum(axis=0).tolist()[0])\n",
    "sorted_freqs0 = sorted(freqs0, key=lambda x: -x[1])\n",
    "\n",
    "matrix1 = cv.fit_transform(df[df['CB_Label'] == 1]['Text'])\n",
    "freqs1 = zip(cv.get_feature_names_out(), matrix1.sum(axis=0).tolist()[0])\n",
    "sorted_freqs1 = sorted(freqs1, key=lambda x: -x[1])\n",
    "\n",
    "# Combine the top 15 words from both categories\n",
    "combined_words = [word[0] for word in sorted_freqs0[:15]] + [word[0] for word in sorted_freqs1[:15]]\n",
    "combined_frequencies = [word[1] for word in sorted_freqs0[:15]] + [word[1] for word in sorted_freqs1[:15]]\n",
    "categories = (['Not Cyberbullying'] * 15) + (['Cyberbullying'] * 15)\n",
    "\n",
    "# Create a DataFrame\n",
    "data = pd.DataFrame({'Words': combined_words, 'Frequency': combined_frequencies, 'Category': categories})\n",
    "\n",
    "# Create a countplot\n",
    "plt.figure(figsize=(12, 8))\n",
    "sns.set(style=\"whitegrid\")  # Set the style of the plot\n",
    "sns.barplot(data=data, x='Frequency', y='Words', hue='Category', \n",
    "            palette={\"Not Cyberbullying\": \"blue\", \"Cyberbullying\": \"red\"})  # Create the countplot\n",
    "plt.xticks(rotation=90)\n",
    "plt.tight_layout()\n",
    "plt.show();"
   ]
  },
  {
   "cell_type": "markdown",
   "id": "e138e976",
   "metadata": {},
   "source": [
    "Top 10 common words"
   ]
  },
  {
   "cell_type": "code",
   "execution_count": 15,
   "id": "a5faf503",
   "metadata": {},
   "outputs": [
    {
     "data": {
      "text/html": [
       "<div>\n",
       "<style scoped>\n",
       "    .dataframe tbody tr th:only-of-type {\n",
       "        vertical-align: middle;\n",
       "    }\n",
       "\n",
       "    .dataframe tbody tr th {\n",
       "        vertical-align: top;\n",
       "    }\n",
       "\n",
       "    .dataframe thead th {\n",
       "        text-align: right;\n",
       "    }\n",
       "</style>\n",
       "<table border=\"1\" class=\"dataframe\">\n",
       "  <thead>\n",
       "    <tr style=\"text-align: right;\">\n",
       "      <th></th>\n",
       "      <th>Common Words</th>\n",
       "      <th>0</th>\n",
       "      <th>1</th>\n",
       "    </tr>\n",
       "  </thead>\n",
       "  <tbody>\n",
       "    <tr>\n",
       "      <th>2829</th>\n",
       "      <td>hate</td>\n",
       "      <td>918</td>\n",
       "      <td>495</td>\n",
       "    </tr>\n",
       "    <tr>\n",
       "      <th>543</th>\n",
       "      <td>damn</td>\n",
       "      <td>832</td>\n",
       "      <td>410</td>\n",
       "    </tr>\n",
       "    <tr>\n",
       "      <th>3510</th>\n",
       "      <td>ass</td>\n",
       "      <td>509</td>\n",
       "      <td>585</td>\n",
       "    </tr>\n",
       "    <tr>\n",
       "      <th>2292</th>\n",
       "      <td>sucks</td>\n",
       "      <td>497</td>\n",
       "      <td>245</td>\n",
       "    </tr>\n",
       "    <tr>\n",
       "      <th>254</th>\n",
       "      <td>lol</td>\n",
       "      <td>469</td>\n",
       "      <td>283</td>\n",
       "    </tr>\n",
       "    <tr>\n",
       "      <th>4211</th>\n",
       "      <td>like</td>\n",
       "      <td>446</td>\n",
       "      <td>705</td>\n",
       "    </tr>\n",
       "    <tr>\n",
       "      <th>2641</th>\n",
       "      <td>just</td>\n",
       "      <td>386</td>\n",
       "      <td>558</td>\n",
       "    </tr>\n",
       "    <tr>\n",
       "      <th>3346</th>\n",
       "      <td>fuck</td>\n",
       "      <td>297</td>\n",
       "      <td>679</td>\n",
       "    </tr>\n",
       "    <tr>\n",
       "      <th>3657</th>\n",
       "      <td>fucking</td>\n",
       "      <td>253</td>\n",
       "      <td>417</td>\n",
       "    </tr>\n",
       "    <tr>\n",
       "      <th>3955</th>\n",
       "      <td>know</td>\n",
       "      <td>246</td>\n",
       "      <td>364</td>\n",
       "    </tr>\n",
       "  </tbody>\n",
       "</table>\n",
       "</div>"
      ],
      "text/plain": [
       "     Common Words    0    1\n",
       "2829         hate  918  495\n",
       "543          damn  832  410\n",
       "3510          ass  509  585\n",
       "2292        sucks  497  245\n",
       "254           lol  469  283\n",
       "4211         like  446  705\n",
       "2641         just  386  558\n",
       "3346         fuck  297  679\n",
       "3657      fucking  253  417\n",
       "3955         know  246  364"
      ]
     },
     "execution_count": 15,
     "metadata": {},
     "output_type": "execute_result"
    }
   ],
   "source": [
    "matrix0 = cv.fit_transform(df[df['CB_Label'] == 0]['Text'])\n",
    "freqs0 = dict(zip(cv.get_feature_names_out(), matrix0.sum(axis=0).tolist()[0]))\n",
    "\n",
    "matrix1 = cv.fit_transform(df[df['CB_Label'] == 1]['Text'])\n",
    "freqs1 = dict(zip(cv.get_feature_names_out(), matrix1.sum(axis=0).tolist()[0]))\n",
    "\n",
    "# Find common words and their frequencies\n",
    "common_words = set(freqs0.keys()) & set(freqs1.keys())\n",
    "\n",
    "# Create lists to store the common words and frequencies in both categories\n",
    "common_words_list = []\n",
    "freqs0_list = []\n",
    "freqs1_list = []\n",
    "\n",
    "for word in common_words:\n",
    "    common_words_list.append(word)\n",
    "    freqs0_list.append(freqs0[word])\n",
    "    freqs1_list.append(freqs1[word])\n",
    "\n",
    "# Create a DataFrame to display the data\n",
    "common_words_df = pd.DataFrame({\n",
    "    'Common Words': common_words_list,\n",
    "    '0': freqs0_list,\n",
    "    '1': freqs1_list\n",
    "})\n",
    "\n",
    "# Sort common words by their combined frequency (freqs0 + freqs1) in descending order\n",
    "common_words_df = common_words_df.sort_values(by=['0', '1'], ascending=False)\n",
    "\n",
    "# top 10 common words\n",
    "common_words_df.head(10)"
   ]
  },
  {
   "cell_type": "code",
   "execution_count": 16,
   "id": "e1f97020",
   "metadata": {},
   "outputs": [],
   "source": [
    "from sklearn.feature_extraction.text import TfidfVectorizer\n",
    "from sklearn.model_selection import train_test_split"
   ]
  },
  {
   "cell_type": "code",
   "execution_count": 17,
   "id": "2bd4132f",
   "metadata": {},
   "outputs": [],
   "source": [
    "X = df[\"Text\"]\n",
    "y = df[\"CB_Label\"]\n",
    "\n",
    "X_train, X_test, y_train, y_test = train_test_split(X, y, test_size=0.2, random_state=8)"
   ]
  },
  {
   "cell_type": "code",
   "execution_count": 18,
   "id": "6e036d3c",
   "metadata": {},
   "outputs": [
    {
     "data": {
      "text/plain": [
       "TfidfVectorizer(stop_words='english')"
      ]
     },
     "execution_count": 18,
     "metadata": {},
     "output_type": "execute_result"
    }
   ],
   "source": [
    "tfidf = TfidfVectorizer(stop_words=\"english\")\n",
    "tfidf.fit(X_train)"
   ]
  },
  {
   "cell_type": "code",
   "execution_count": 19,
   "id": "20ce6b83",
   "metadata": {},
   "outputs": [],
   "source": [
    "X_train  = tfidf.transform(X_train)\n",
    "X_test = tfidf.transform(X_test)"
   ]
  },
  {
   "cell_type": "markdown",
   "id": "772d80e7",
   "metadata": {},
   "source": [
    "### Testing several models"
   ]
  },
  {
   "cell_type": "code",
   "execution_count": 20,
   "id": "732599ce",
   "metadata": {},
   "outputs": [],
   "source": [
    "from sklearn.model_selection import GridSearchCV\n",
    "from sklearn.tree import DecisionTreeClassifier\n",
    "from sklearn.ensemble import RandomForestClassifier\n",
    "from sklearn.svm import SVC\n",
    "from sklearn.linear_model import LogisticRegression"
   ]
  },
  {
   "cell_type": "code",
   "execution_count": 21,
   "id": "b737a3b5",
   "metadata": {},
   "outputs": [],
   "source": [
    "dtc = DecisionTreeClassifier()\n",
    "rfc = RandomForestClassifier()\n",
    "svc = SVC()\n",
    "logR = LogisticRegression( max_iter=1000)"
   ]
  },
  {
   "cell_type": "markdown",
   "id": "f443f835",
   "metadata": {},
   "source": [
    "Setting parameters for each model"
   ]
  },
  {
   "cell_type": "code",
   "execution_count": 22,
   "id": "545ac21a",
   "metadata": {},
   "outputs": [],
   "source": [
    "param_grid_rfc = {\"n_estimators\":[50, 72, 100, 128], \"max_features\":[2,3,4,5]}"
   ]
  },
  {
   "cell_type": "code",
   "execution_count": 23,
   "id": "5fb0035a",
   "metadata": {},
   "outputs": [],
   "source": [
    "param_grid_svc = {\"C\":[0.01, 0.1, 1, 10], \"kernel\":[\"linear\", \"rbf\", \"poly\"], \"degree\":[2,3,4]}"
   ]
  },
  {
   "cell_type": "code",
   "execution_count": 24,
   "id": "1ed7f41f",
   "metadata": {},
   "outputs": [],
   "source": [
    "param_grid_lr = {\"penalty\":[\"l2\"], \"C\":[0.01,0.1,1,10]}"
   ]
  },
  {
   "cell_type": "code",
   "execution_count": 25,
   "id": "12558038",
   "metadata": {},
   "outputs": [],
   "source": [
    "grid_rfc = GridSearchCV(rfc, param_grid_rfc)\n",
    "\n",
    "grid_svc = GridSearchCV(svc, param_grid_svc)\n",
    "\n",
    "grid_lr = GridSearchCV(logR, param_grid_lr)"
   ]
  },
  {
   "cell_type": "code",
   "execution_count": 26,
   "id": "1ac2731c",
   "metadata": {},
   "outputs": [
    {
     "data": {
      "text/plain": [
       "DecisionTreeClassifier()"
      ]
     },
     "execution_count": 26,
     "metadata": {},
     "output_type": "execute_result"
    }
   ],
   "source": [
    "dtc.fit(X_train, y_train)"
   ]
  },
  {
   "cell_type": "code",
   "execution_count": 27,
   "id": "62af5aee",
   "metadata": {},
   "outputs": [
    {
     "data": {
      "text/plain": [
       "GridSearchCV(estimator=RandomForestClassifier(),\n",
       "             param_grid={'max_features': [2, 3, 4, 5],\n",
       "                         'n_estimators': [50, 72, 100, 128]})"
      ]
     },
     "execution_count": 27,
     "metadata": {},
     "output_type": "execute_result"
    }
   ],
   "source": [
    "grid_rfc.fit(X_train, y_train)"
   ]
  },
  {
   "cell_type": "code",
   "execution_count": 28,
   "id": "a5841b38",
   "metadata": {},
   "outputs": [
    {
     "data": {
      "text/plain": [
       "GridSearchCV(estimator=SVC(),\n",
       "             param_grid={'C': [0.01, 0.1, 1, 10], 'degree': [2, 3, 4],\n",
       "                         'kernel': ['linear', 'rbf', 'poly']})"
      ]
     },
     "execution_count": 28,
     "metadata": {},
     "output_type": "execute_result"
    }
   ],
   "source": [
    "grid_svc.fit(X_train, y_train)"
   ]
  },
  {
   "cell_type": "code",
   "execution_count": 29,
   "id": "9ce125bd",
   "metadata": {},
   "outputs": [
    {
     "data": {
      "text/plain": [
       "GridSearchCV(estimator=LogisticRegression(max_iter=1000),\n",
       "             param_grid={'C': [0.01, 0.1, 1, 10], 'penalty': ['l2']})"
      ]
     },
     "execution_count": 29,
     "metadata": {},
     "output_type": "execute_result"
    }
   ],
   "source": [
    "grid_lr.fit(X_train, y_train)"
   ]
  },
  {
   "cell_type": "code",
   "execution_count": 30,
   "id": "6cc37f4f",
   "metadata": {},
   "outputs": [],
   "source": [
    "from sklearn.metrics import ConfusionMatrixDisplay, classification_report, accuracy_score\n",
    "def reporting_function(grid_model):\n",
    "    print(f\"Best Parameters: {grid_model.best_params_}\\n\")\n",
    "    preds = grid_model.predict(X_test)\n",
    "    print(f\"Accuracy score: {accuracy_score(y_test, preds)}\\n\")\n",
    "    print(classification_report(y_test, preds))\n",
    "    ConfusionMatrixDisplay.from_estimator(grid_model, X_test, y_test)"
   ]
  },
  {
   "cell_type": "code",
   "execution_count": 31,
   "id": "ec828234",
   "metadata": {},
   "outputs": [
    {
     "name": "stdout",
     "output_type": "stream",
     "text": [
      "Accuracy score: 0.6725225225225225\n",
      "\n",
      "              precision    recall  f1-score   support\n",
      "\n",
      "           0       0.67      0.68      0.68      1114\n",
      "           1       0.67      0.67      0.67      1106\n",
      "\n",
      "    accuracy                           0.67      2220\n",
      "   macro avg       0.67      0.67      0.67      2220\n",
      "weighted avg       0.67      0.67      0.67      2220\n",
      "\n"
     ]
    },
    {
     "data": {
      "text/plain": [
       "<sklearn.metrics._plot.confusion_matrix.ConfusionMatrixDisplay at 0x246e8c76100>"
      ]
     },
     "execution_count": 31,
     "metadata": {},
     "output_type": "execute_result"
    },
    {
     "data": {
      "image/png": "[encoded data removed]",
      "text/plain": [
       "<Figure size 640x480 with 2 Axes>"
      ]
     },
     "metadata": {},
     "output_type": "display_data"
    }
   ],
   "source": [
    "# Metrics for DecisionTreeClassifier\n",
    "preds = dtc.predict(X_test)\n",
    "print(f\"Accuracy score: {accuracy_score(y_test, preds)}\\n\")\n",
    "print(classification_report(y_test, preds))\n",
    "ConfusionMatrixDisplay.from_estimator(dtc, X_test, y_test)"
   ]
  },
  {
   "cell_type": "code",
   "execution_count": 32,
   "id": "eae0aa57",
   "metadata": {},
   "outputs": [
    {
     "name": "stdout",
     "output_type": "stream",
     "text": [
      "Best Parameters: {'max_features': 5, 'n_estimators': 128}\n",
      "\n",
      "Accuracy score: 0.7238738738738739\n",
      "\n",
      "              precision    recall  f1-score   support\n",
      "\n",
      "           0       0.69      0.81      0.75      1114\n",
      "           1       0.77      0.63      0.70      1106\n",
      "\n",
      "    accuracy                           0.72      2220\n",
      "   macro avg       0.73      0.72      0.72      2220\n",
      "weighted avg       0.73      0.72      0.72      2220\n",
      "\n"
     ]
    },
    {
     "data": {
      "image/png": "[encoded data removed]",
      "text/plain": [
       "<Figure size 640x480 with 2 Axes>"
      ]
     },
     "metadata": {},
     "output_type": "display_data"
    }
   ],
   "source": [
    "# Metrics for RandomForestClassifier\n",
    "reporting_function(grid_rfc)"
   ]
  },
  {
   "cell_type": "code",
   "execution_count": 33,
   "id": "40df7f64",
   "metadata": {},
   "outputs": [
    {
     "name": "stdout",
     "output_type": "stream",
     "text": [
      "Best Parameters: {'C': 1, 'degree': 2, 'kernel': 'rbf'}\n",
      "\n",
      "Accuracy score: 0.7333333333333333\n",
      "\n",
      "              precision    recall  f1-score   support\n",
      "\n",
      "           0       0.70      0.81      0.75      1114\n",
      "           1       0.77      0.66      0.71      1106\n",
      "\n",
      "    accuracy                           0.73      2220\n",
      "   macro avg       0.74      0.73      0.73      2220\n",
      "weighted avg       0.74      0.73      0.73      2220\n",
      "\n"
     ]
    },
    {
     "data": {
      "image/png": "[encoded data removed]",
      "text/plain": [
       "<Figure size 640x480 with 2 Axes>"
      ]
     },
     "metadata": {},
     "output_type": "display_data"
    }
   ],
   "source": [
    "# Metrics for SVC\n",
    "reporting_function(grid_svc)"
   ]
  },
  {
   "cell_type": "code",
   "execution_count": 34,
   "id": "d7db5a84",
   "metadata": {},
   "outputs": [
    {
     "name": "stdout",
     "output_type": "stream",
     "text": [
      "Best Parameters: {'C': 0.1, 'penalty': 'l2'}\n",
      "\n",
      "Accuracy score: 0.7234234234234235\n",
      "\n",
      "              precision    recall  f1-score   support\n",
      "\n",
      "           0       0.70      0.79      0.74      1114\n",
      "           1       0.76      0.66      0.70      1106\n",
      "\n",
      "    accuracy                           0.72      2220\n",
      "   macro avg       0.73      0.72      0.72      2220\n",
      "weighted avg       0.73      0.72      0.72      2220\n",
      "\n"
     ]
    },
    {
     "data": {
      "image/png": "[encoded data removed]",
      "text/plain": [
       "<Figure size 640x480 with 2 Axes>"
      ]
     },
     "metadata": {},
     "output_type": "display_data"
    }
   ],
   "source": [
    "# Metrics for LogisticRegression\n",
    "reporting_function(grid_lr)"
   ]
  }
 ],
 "metadata": {
  "kernelspec": {
   "display_name": "Python 3 (ipykernel)",
   "language": "python",
   "name": "python3"
  },
  "language_info": {
   "codemirror_mode": {
    "name": "ipython",
    "version": 3
   },
   "file_extension": ".py",
   "mimetype": "text/x-python",
   "name": "python",
   "nbconvert_exporter": "python",
   "pygments_lexer": "ipython3",
   "version": "3.9.13"
  }
 },
 "nbformat": 4,
 "nbformat_minor": 5
}
